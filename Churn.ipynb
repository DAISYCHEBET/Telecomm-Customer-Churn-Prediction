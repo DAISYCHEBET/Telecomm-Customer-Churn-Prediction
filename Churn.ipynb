{
 "cells": [
  {
   "cell_type": "code",
   "execution_count": 1,
   "id": "5752aaa0-6364-4936-96f1-0f30dbb5265c",
   "metadata": {},
   "outputs": [
    {
     "name": "stdout",
     "output_type": "stream",
     "text": [
      "(7043, 33)\n"
     ]
    }
   ],
   "source": [
    "import pandas as pd\n",
    "import matplotlib.pyplot as plt\n",
    "import warnings\n",
    "warnings.filterwarnings(\"ignore\")\n",
    "\n",
    "\n",
    "#Reading in  the dataset\n",
    "df=pd.read_excel('Telco_customer_churn.xlsx')\n",
    "print(df.shape)"
   ]
  },
  {
   "cell_type": "code",
   "execution_count": 2,
   "id": "00882392-b039-4bd0-ab07-5edd0ed42b45",
   "metadata": {},
   "outputs": [
    {
     "name": "stdout",
     "output_type": "stream",
     "text": [
      "<class 'pandas.core.frame.DataFrame'>\n",
      "RangeIndex: 7043 entries, 0 to 7042\n",
      "Data columns (total 33 columns):\n",
      " #   Column             Non-Null Count  Dtype  \n",
      "---  ------             --------------  -----  \n",
      " 0   CustomerID         7043 non-null   object \n",
      " 1   Count              7043 non-null   int64  \n",
      " 2   Country            7043 non-null   object \n",
      " 3   State              7043 non-null   object \n",
      " 4   City               7043 non-null   object \n",
      " 5   Zip Code           7043 non-null   int64  \n",
      " 6   Lat Long           7043 non-null   object \n",
      " 7   Latitude           7043 non-null   float64\n",
      " 8   Longitude          7043 non-null   float64\n",
      " 9   Gender             7043 non-null   object \n",
      " 10  Senior Citizen     7043 non-null   object \n",
      " 11  Partner            7043 non-null   object \n",
      " 12  Dependents         7043 non-null   object \n",
      " 13  Tenure Months      7043 non-null   int64  \n",
      " 14  Phone Service      7043 non-null   object \n",
      " 15  Multiple Lines     7043 non-null   object \n",
      " 16  Internet Service   7043 non-null   object \n",
      " 17  Online Security    7043 non-null   object \n",
      " 18  Online Backup      7043 non-null   object \n",
      " 19  Device Protection  7043 non-null   object \n",
      " 20  Tech Support       7043 non-null   object \n",
      " 21  Streaming TV       7043 non-null   object \n",
      " 22  Streaming Movies   7043 non-null   object \n",
      " 23  Contract           7043 non-null   object \n",
      " 24  Paperless Billing  7043 non-null   object \n",
      " 25  Payment Method     7043 non-null   object \n",
      " 26  Monthly Charges    7043 non-null   float64\n",
      " 27  Total Charges      7043 non-null   object \n",
      " 28  Churn Label        7043 non-null   object \n",
      " 29  Churn Value        7043 non-null   int64  \n",
      " 30  Churn Score        7043 non-null   int64  \n",
      " 31  CLTV               7043 non-null   int64  \n",
      " 32  Churn Reason       1869 non-null   object \n",
      "dtypes: float64(3), int64(6), object(24)\n",
      "memory usage: 1.8+ MB\n",
      "None\n"
     ]
    }
   ],
   "source": [
    "print(df.info())"
   ]
  },
  {
   "cell_type": "code",
   "execution_count": 3,
   "id": "dbc1c167-937e-412e-bca4-d3a2ffee4d23",
   "metadata": {},
   "outputs": [
    {
     "name": "stdout",
     "output_type": "stream",
     "text": [
      "CustomerID              0\n",
      "Count                   0\n",
      "Country                 0\n",
      "State                   0\n",
      "City                    0\n",
      "Zip Code                0\n",
      "Lat Long                0\n",
      "Latitude                0\n",
      "Longitude               0\n",
      "Gender                  0\n",
      "Senior Citizen          0\n",
      "Partner                 0\n",
      "Dependents              0\n",
      "Tenure Months           0\n",
      "Phone Service           0\n",
      "Multiple Lines          0\n",
      "Internet Service        0\n",
      "Online Security         0\n",
      "Online Backup           0\n",
      "Device Protection       0\n",
      "Tech Support            0\n",
      "Streaming TV            0\n",
      "Streaming Movies        0\n",
      "Contract                0\n",
      "Paperless Billing       0\n",
      "Payment Method          0\n",
      "Monthly Charges         0\n",
      "Total Charges           0\n",
      "Churn Label             0\n",
      "Churn Value             0\n",
      "Churn Score             0\n",
      "CLTV                    0\n",
      "Churn Reason         5174\n",
      "dtype: int64\n"
     ]
    }
   ],
   "source": [
    "print(df.isnull().sum())"
   ]
  },
  {
   "cell_type": "code",
   "execution_count": 4,
   "id": "7c7fdb96-5d3a-4e39-918e-70ead9163f11",
   "metadata": {},
   "outputs": [
    {
     "name": "stdout",
     "output_type": "stream",
     "text": [
      "        Count      Zip Code     Latitude    Longitude  Tenure Months  \\\n",
      "count  7043.0   7043.000000  7043.000000  7043.000000    7043.000000   \n",
      "mean      1.0  93521.964646    36.282441  -119.798880      32.371149   \n",
      "std       0.0   1865.794555     2.455723     2.157889      24.559481   \n",
      "min       1.0  90001.000000    32.555828  -124.301372       0.000000   \n",
      "25%       1.0  92102.000000    34.030915  -121.815412       9.000000   \n",
      "50%       1.0  93552.000000    36.391777  -119.730885      29.000000   \n",
      "75%       1.0  95351.000000    38.224869  -118.043237      55.000000   \n",
      "max       1.0  96161.000000    41.962127  -114.192901      72.000000   \n",
      "\n",
      "       Monthly Charges  Churn Value  Churn Score         CLTV  \n",
      "count      7043.000000  7043.000000  7043.000000  7043.000000  \n",
      "mean         64.761692     0.265370    58.699418  4400.295755  \n",
      "std          30.090047     0.441561    21.525131  1183.057152  \n",
      "min          18.250000     0.000000     5.000000  2003.000000  \n",
      "25%          35.500000     0.000000    40.000000  3469.000000  \n",
      "50%          70.350000     0.000000    61.000000  4527.000000  \n",
      "75%          89.850000     1.000000    75.000000  5380.500000  \n",
      "max         118.750000     1.000000   100.000000  6500.000000  \n"
     ]
    }
   ],
   "source": [
    "print(df.describe())"
   ]
  },
  {
   "cell_type": "code",
   "execution_count": 5,
   "id": "dbed5241-f200-4e8f-8987-227f370a2266",
   "metadata": {},
   "outputs": [],
   "source": [
    "df=df.drop('CustomerID',axis=1)"
   ]
  },
  {
   "cell_type": "code",
   "execution_count": 6,
   "id": "3ad1d27d-14da-4978-9965-ac1587957518",
   "metadata": {},
   "outputs": [
    {
     "name": "stdout",
     "output_type": "stream",
     "text": [
      "Count                  int64\n",
      "Country               object\n",
      "State                 object\n",
      "City                  object\n",
      "Zip Code               int64\n",
      "Lat Long              object\n",
      "Latitude             float64\n",
      "Longitude            float64\n",
      "Gender                object\n",
      "Senior Citizen        object\n",
      "Partner               object\n",
      "Dependents            object\n",
      "Tenure Months          int64\n",
      "Phone Service         object\n",
      "Multiple Lines        object\n",
      "Internet Service      object\n",
      "Online Security       object\n",
      "Online Backup         object\n",
      "Device Protection     object\n",
      "Tech Support          object\n",
      "Streaming TV          object\n",
      "Streaming Movies      object\n",
      "Contract              object\n",
      "Paperless Billing     object\n",
      "Payment Method        object\n",
      "Monthly Charges      float64\n",
      "Total Charges         object\n",
      "Churn Label           object\n",
      "Churn Value            int64\n",
      "Churn Score            int64\n",
      "CLTV                   int64\n",
      "Churn Reason          object\n",
      "dtype: object\n"
     ]
    }
   ],
   "source": [
    "print(df.dtypes)"
   ]
  },
  {
   "cell_type": "code",
   "execution_count": 7,
   "id": "c692980d-ff45-49ca-bf34-f40ab7b38ff5",
   "metadata": {},
   "outputs": [
    {
     "name": "stdout",
     "output_type": "stream",
     "text": [
      "[108.15 151.65 820.5 ... 7362.9 346.45 6844.5]\n"
     ]
    }
   ],
   "source": [
    "print(df['Total Charges'].values)"
   ]
  },
  {
   "cell_type": "code",
   "execution_count": 8,
   "id": "44059e66-fe59-4c57-b51e-c4135635cfc6",
   "metadata": {},
   "outputs": [
    {
     "data": {
      "text/html": [
       "<div>\n",
       "<style scoped>\n",
       "    .dataframe tbody tr th:only-of-type {\n",
       "        vertical-align: middle;\n",
       "    }\n",
       "\n",
       "    .dataframe tbody tr th {\n",
       "        vertical-align: top;\n",
       "    }\n",
       "\n",
       "    .dataframe thead th {\n",
       "        text-align: right;\n",
       "    }\n",
       "</style>\n",
       "<table border=\"1\" class=\"dataframe\">\n",
       "  <thead>\n",
       "    <tr style=\"text-align: right;\">\n",
       "      <th></th>\n",
       "      <th>Count</th>\n",
       "      <th>Country</th>\n",
       "      <th>State</th>\n",
       "      <th>City</th>\n",
       "      <th>Zip Code</th>\n",
       "      <th>Lat Long</th>\n",
       "      <th>Latitude</th>\n",
       "      <th>Longitude</th>\n",
       "      <th>Gender</th>\n",
       "      <th>Senior Citizen</th>\n",
       "      <th>...</th>\n",
       "      <th>Contract</th>\n",
       "      <th>Paperless Billing</th>\n",
       "      <th>Payment Method</th>\n",
       "      <th>Monthly Charges</th>\n",
       "      <th>Total Charges</th>\n",
       "      <th>Churn Label</th>\n",
       "      <th>Churn Value</th>\n",
       "      <th>Churn Score</th>\n",
       "      <th>CLTV</th>\n",
       "      <th>Churn Reason</th>\n",
       "    </tr>\n",
       "  </thead>\n",
       "  <tbody>\n",
       "    <tr>\n",
       "      <th>2234</th>\n",
       "      <td>1</td>\n",
       "      <td>United States</td>\n",
       "      <td>California</td>\n",
       "      <td>San Bernardino</td>\n",
       "      <td>92408</td>\n",
       "      <td>34.084909, -117.258107</td>\n",
       "      <td>34.084909</td>\n",
       "      <td>-117.258107</td>\n",
       "      <td>Female</td>\n",
       "      <td>No</td>\n",
       "      <td>...</td>\n",
       "      <td>Two year</td>\n",
       "      <td>Yes</td>\n",
       "      <td>Bank transfer (automatic)</td>\n",
       "      <td>52.55</td>\n",
       "      <td>NaN</td>\n",
       "      <td>No</td>\n",
       "      <td>0</td>\n",
       "      <td>36</td>\n",
       "      <td>2578</td>\n",
       "      <td>NaN</td>\n",
       "    </tr>\n",
       "    <tr>\n",
       "      <th>2438</th>\n",
       "      <td>1</td>\n",
       "      <td>United States</td>\n",
       "      <td>California</td>\n",
       "      <td>Independence</td>\n",
       "      <td>93526</td>\n",
       "      <td>36.869584, -118.189241</td>\n",
       "      <td>36.869584</td>\n",
       "      <td>-118.189241</td>\n",
       "      <td>Male</td>\n",
       "      <td>No</td>\n",
       "      <td>...</td>\n",
       "      <td>Two year</td>\n",
       "      <td>No</td>\n",
       "      <td>Mailed check</td>\n",
       "      <td>20.25</td>\n",
       "      <td>NaN</td>\n",
       "      <td>No</td>\n",
       "      <td>0</td>\n",
       "      <td>68</td>\n",
       "      <td>5504</td>\n",
       "      <td>NaN</td>\n",
       "    </tr>\n",
       "    <tr>\n",
       "      <th>2568</th>\n",
       "      <td>1</td>\n",
       "      <td>United States</td>\n",
       "      <td>California</td>\n",
       "      <td>San Mateo</td>\n",
       "      <td>94401</td>\n",
       "      <td>37.590421, -122.306467</td>\n",
       "      <td>37.590421</td>\n",
       "      <td>-122.306467</td>\n",
       "      <td>Female</td>\n",
       "      <td>No</td>\n",
       "      <td>...</td>\n",
       "      <td>Two year</td>\n",
       "      <td>No</td>\n",
       "      <td>Mailed check</td>\n",
       "      <td>80.85</td>\n",
       "      <td>NaN</td>\n",
       "      <td>No</td>\n",
       "      <td>0</td>\n",
       "      <td>45</td>\n",
       "      <td>2048</td>\n",
       "      <td>NaN</td>\n",
       "    </tr>\n",
       "    <tr>\n",
       "      <th>2667</th>\n",
       "      <td>1</td>\n",
       "      <td>United States</td>\n",
       "      <td>California</td>\n",
       "      <td>Cupertino</td>\n",
       "      <td>95014</td>\n",
       "      <td>37.306612, -122.080621</td>\n",
       "      <td>37.306612</td>\n",
       "      <td>-122.080621</td>\n",
       "      <td>Male</td>\n",
       "      <td>No</td>\n",
       "      <td>...</td>\n",
       "      <td>Two year</td>\n",
       "      <td>No</td>\n",
       "      <td>Mailed check</td>\n",
       "      <td>25.75</td>\n",
       "      <td>NaN</td>\n",
       "      <td>No</td>\n",
       "      <td>0</td>\n",
       "      <td>48</td>\n",
       "      <td>4950</td>\n",
       "      <td>NaN</td>\n",
       "    </tr>\n",
       "    <tr>\n",
       "      <th>2856</th>\n",
       "      <td>1</td>\n",
       "      <td>United States</td>\n",
       "      <td>California</td>\n",
       "      <td>Redcrest</td>\n",
       "      <td>95569</td>\n",
       "      <td>40.363446, -123.835041</td>\n",
       "      <td>40.363446</td>\n",
       "      <td>-123.835041</td>\n",
       "      <td>Female</td>\n",
       "      <td>No</td>\n",
       "      <td>...</td>\n",
       "      <td>Two year</td>\n",
       "      <td>No</td>\n",
       "      <td>Credit card (automatic)</td>\n",
       "      <td>56.05</td>\n",
       "      <td>NaN</td>\n",
       "      <td>No</td>\n",
       "      <td>0</td>\n",
       "      <td>30</td>\n",
       "      <td>4740</td>\n",
       "      <td>NaN</td>\n",
       "    </tr>\n",
       "    <tr>\n",
       "      <th>4331</th>\n",
       "      <td>1</td>\n",
       "      <td>United States</td>\n",
       "      <td>California</td>\n",
       "      <td>Los Angeles</td>\n",
       "      <td>90029</td>\n",
       "      <td>34.089953, -118.294824</td>\n",
       "      <td>34.089953</td>\n",
       "      <td>-118.294824</td>\n",
       "      <td>Male</td>\n",
       "      <td>No</td>\n",
       "      <td>...</td>\n",
       "      <td>Two year</td>\n",
       "      <td>No</td>\n",
       "      <td>Mailed check</td>\n",
       "      <td>19.85</td>\n",
       "      <td>NaN</td>\n",
       "      <td>No</td>\n",
       "      <td>0</td>\n",
       "      <td>53</td>\n",
       "      <td>2019</td>\n",
       "      <td>NaN</td>\n",
       "    </tr>\n",
       "    <tr>\n",
       "      <th>4687</th>\n",
       "      <td>1</td>\n",
       "      <td>United States</td>\n",
       "      <td>California</td>\n",
       "      <td>Sun City</td>\n",
       "      <td>92585</td>\n",
       "      <td>33.739412, -117.173334</td>\n",
       "      <td>33.739412</td>\n",
       "      <td>-117.173334</td>\n",
       "      <td>Male</td>\n",
       "      <td>No</td>\n",
       "      <td>...</td>\n",
       "      <td>Two year</td>\n",
       "      <td>No</td>\n",
       "      <td>Mailed check</td>\n",
       "      <td>25.35</td>\n",
       "      <td>NaN</td>\n",
       "      <td>No</td>\n",
       "      <td>0</td>\n",
       "      <td>49</td>\n",
       "      <td>2299</td>\n",
       "      <td>NaN</td>\n",
       "    </tr>\n",
       "    <tr>\n",
       "      <th>5104</th>\n",
       "      <td>1</td>\n",
       "      <td>United States</td>\n",
       "      <td>California</td>\n",
       "      <td>Ben Lomond</td>\n",
       "      <td>95005</td>\n",
       "      <td>37.078873, -122.090386</td>\n",
       "      <td>37.078873</td>\n",
       "      <td>-122.090386</td>\n",
       "      <td>Female</td>\n",
       "      <td>No</td>\n",
       "      <td>...</td>\n",
       "      <td>Two year</td>\n",
       "      <td>No</td>\n",
       "      <td>Mailed check</td>\n",
       "      <td>20.00</td>\n",
       "      <td>NaN</td>\n",
       "      <td>No</td>\n",
       "      <td>0</td>\n",
       "      <td>27</td>\n",
       "      <td>3763</td>\n",
       "      <td>NaN</td>\n",
       "    </tr>\n",
       "    <tr>\n",
       "      <th>5719</th>\n",
       "      <td>1</td>\n",
       "      <td>United States</td>\n",
       "      <td>California</td>\n",
       "      <td>La Verne</td>\n",
       "      <td>91750</td>\n",
       "      <td>34.144703, -117.770299</td>\n",
       "      <td>34.144703</td>\n",
       "      <td>-117.770299</td>\n",
       "      <td>Male</td>\n",
       "      <td>No</td>\n",
       "      <td>...</td>\n",
       "      <td>One year</td>\n",
       "      <td>Yes</td>\n",
       "      <td>Mailed check</td>\n",
       "      <td>19.70</td>\n",
       "      <td>NaN</td>\n",
       "      <td>No</td>\n",
       "      <td>0</td>\n",
       "      <td>69</td>\n",
       "      <td>4890</td>\n",
       "      <td>NaN</td>\n",
       "    </tr>\n",
       "    <tr>\n",
       "      <th>6772</th>\n",
       "      <td>1</td>\n",
       "      <td>United States</td>\n",
       "      <td>California</td>\n",
       "      <td>Bell</td>\n",
       "      <td>90201</td>\n",
       "      <td>33.970343, -118.171368</td>\n",
       "      <td>33.970343</td>\n",
       "      <td>-118.171368</td>\n",
       "      <td>Female</td>\n",
       "      <td>No</td>\n",
       "      <td>...</td>\n",
       "      <td>Two year</td>\n",
       "      <td>No</td>\n",
       "      <td>Mailed check</td>\n",
       "      <td>73.35</td>\n",
       "      <td>NaN</td>\n",
       "      <td>No</td>\n",
       "      <td>0</td>\n",
       "      <td>44</td>\n",
       "      <td>2342</td>\n",
       "      <td>NaN</td>\n",
       "    </tr>\n",
       "    <tr>\n",
       "      <th>6840</th>\n",
       "      <td>1</td>\n",
       "      <td>United States</td>\n",
       "      <td>California</td>\n",
       "      <td>Wilmington</td>\n",
       "      <td>90744</td>\n",
       "      <td>33.782068, -118.262263</td>\n",
       "      <td>33.782068</td>\n",
       "      <td>-118.262263</td>\n",
       "      <td>Male</td>\n",
       "      <td>No</td>\n",
       "      <td>...</td>\n",
       "      <td>Two year</td>\n",
       "      <td>Yes</td>\n",
       "      <td>Bank transfer (automatic)</td>\n",
       "      <td>61.90</td>\n",
       "      <td>NaN</td>\n",
       "      <td>No</td>\n",
       "      <td>0</td>\n",
       "      <td>65</td>\n",
       "      <td>5188</td>\n",
       "      <td>NaN</td>\n",
       "    </tr>\n",
       "  </tbody>\n",
       "</table>\n",
       "<p>11 rows × 32 columns</p>\n",
       "</div>"
      ],
      "text/plain": [
       "      Count        Country       State            City  Zip Code  \\\n",
       "2234      1  United States  California  San Bernardino     92408   \n",
       "2438      1  United States  California    Independence     93526   \n",
       "2568      1  United States  California       San Mateo     94401   \n",
       "2667      1  United States  California       Cupertino     95014   \n",
       "2856      1  United States  California        Redcrest     95569   \n",
       "4331      1  United States  California     Los Angeles     90029   \n",
       "4687      1  United States  California        Sun City     92585   \n",
       "5104      1  United States  California      Ben Lomond     95005   \n",
       "5719      1  United States  California        La Verne     91750   \n",
       "6772      1  United States  California            Bell     90201   \n",
       "6840      1  United States  California      Wilmington     90744   \n",
       "\n",
       "                    Lat Long   Latitude   Longitude  Gender Senior Citizen  \\\n",
       "2234  34.084909, -117.258107  34.084909 -117.258107  Female             No   \n",
       "2438  36.869584, -118.189241  36.869584 -118.189241    Male             No   \n",
       "2568  37.590421, -122.306467  37.590421 -122.306467  Female             No   \n",
       "2667  37.306612, -122.080621  37.306612 -122.080621    Male             No   \n",
       "2856  40.363446, -123.835041  40.363446 -123.835041  Female             No   \n",
       "4331  34.089953, -118.294824  34.089953 -118.294824    Male             No   \n",
       "4687  33.739412, -117.173334  33.739412 -117.173334    Male             No   \n",
       "5104  37.078873, -122.090386  37.078873 -122.090386  Female             No   \n",
       "5719  34.144703, -117.770299  34.144703 -117.770299    Male             No   \n",
       "6772  33.970343, -118.171368  33.970343 -118.171368  Female             No   \n",
       "6840  33.782068, -118.262263  33.782068 -118.262263    Male             No   \n",
       "\n",
       "      ...  Contract Paperless Billing             Payment Method  \\\n",
       "2234  ...  Two year               Yes  Bank transfer (automatic)   \n",
       "2438  ...  Two year                No               Mailed check   \n",
       "2568  ...  Two year                No               Mailed check   \n",
       "2667  ...  Two year                No               Mailed check   \n",
       "2856  ...  Two year                No    Credit card (automatic)   \n",
       "4331  ...  Two year                No               Mailed check   \n",
       "4687  ...  Two year                No               Mailed check   \n",
       "5104  ...  Two year                No               Mailed check   \n",
       "5719  ...  One year               Yes               Mailed check   \n",
       "6772  ...  Two year                No               Mailed check   \n",
       "6840  ...  Two year               Yes  Bank transfer (automatic)   \n",
       "\n",
       "     Monthly Charges Total Charges Churn Label Churn Value Churn Score  CLTV  \\\n",
       "2234           52.55           NaN          No           0          36  2578   \n",
       "2438           20.25           NaN          No           0          68  5504   \n",
       "2568           80.85           NaN          No           0          45  2048   \n",
       "2667           25.75           NaN          No           0          48  4950   \n",
       "2856           56.05           NaN          No           0          30  4740   \n",
       "4331           19.85           NaN          No           0          53  2019   \n",
       "4687           25.35           NaN          No           0          49  2299   \n",
       "5104           20.00           NaN          No           0          27  3763   \n",
       "5719           19.70           NaN          No           0          69  4890   \n",
       "6772           73.35           NaN          No           0          44  2342   \n",
       "6840           61.90           NaN          No           0          65  5188   \n",
       "\n",
       "     Churn Reason  \n",
       "2234          NaN  \n",
       "2438          NaN  \n",
       "2568          NaN  \n",
       "2667          NaN  \n",
       "2856          NaN  \n",
       "4331          NaN  \n",
       "4687          NaN  \n",
       "5104          NaN  \n",
       "5719          NaN  \n",
       "6772          NaN  \n",
       "6840          NaN  \n",
       "\n",
       "[11 rows x 32 columns]"
      ]
     },
     "execution_count": 8,
     "metadata": {},
     "output_type": "execute_result"
    }
   ],
   "source": [
    "df['Total Charges']=pd.to_numeric(df['Total Charges'],errors='coerce')\n",
    "df[pd.to_numeric(df['Total Charges'],errors='coerce').isnull()]"
   ]
  },
  {
   "cell_type": "code",
   "execution_count": 9,
   "id": "80be63c1-e96d-4e46-b52d-4de08b247ea7",
   "metadata": {},
   "outputs": [
    {
     "data": {
      "text/plain": [
       "Count                   0\n",
       "Country                 0\n",
       "State                   0\n",
       "City                    0\n",
       "Zip Code                0\n",
       "Lat Long                0\n",
       "Latitude                0\n",
       "Longitude               0\n",
       "Gender                  0\n",
       "Senior Citizen          0\n",
       "Partner                 0\n",
       "Dependents              0\n",
       "Tenure Months           0\n",
       "Phone Service           0\n",
       "Multiple Lines          0\n",
       "Internet Service        0\n",
       "Online Security         0\n",
       "Online Backup           0\n",
       "Device Protection       0\n",
       "Tech Support            0\n",
       "Streaming TV            0\n",
       "Streaming Movies        0\n",
       "Contract                0\n",
       "Paperless Billing       0\n",
       "Payment Method          0\n",
       "Monthly Charges         0\n",
       "Total Charges           0\n",
       "Churn Label             0\n",
       "Churn Value             0\n",
       "Churn Score             0\n",
       "CLTV                    0\n",
       "Churn Reason         5163\n",
       "dtype: int64"
      ]
     },
     "execution_count": 9,
     "metadata": {},
     "output_type": "execute_result"
    }
   ],
   "source": [
    "df1 = df[(df['Total Charges'] != '') & (pd.notna(df['Total Charges']))]\n",
    "df1.isnull().sum()"
   ]
  },
  {
   "cell_type": "code",
   "execution_count": 10,
   "id": "49e4b5ac-bc6e-48e4-9d2c-3ab6ac372b89",
   "metadata": {},
   "outputs": [],
   "source": [
    "no_churn_customers=df1[df1['Churn Label']=='No']['Tenure Months']\n",
    "yes_churn_customers=df1[df1['Churn Label']=='Yes']['Tenure Months']"
   ]
  },
  {
   "cell_type": "code",
   "execution_count": 11,
   "id": "9b0a9312-a97b-4f88-9e41-b732c723d36e",
   "metadata": {},
   "outputs": [
    {
     "data": {
      "image/png": "[encoded data removed]",
      "text/plain": [
       "<Figure size 640x480 with 1 Axes>"
      ]
     },
     "metadata": {},
     "output_type": "display_data"
    }
   ],
   "source": [
    "plt.hist([no_churn_customers,yes_churn_customers],color=['green','red'],label=['No Churn', 'Yes Churn'],bins=10,alpha=0.5)\n",
    "plt.xlabel('Tenure Months')\n",
    "plt.ylabel('Number of customers')\n",
    "plt.title('Histogram of Tenure Months by Churn Status')\n",
    "plt.legend()\n",
    "plt.show()"
   ]
  },
  {
   "cell_type": "code",
   "execution_count": 12,
   "id": "5cf6f67c-8476-4294-8b4e-df0dc5f6277e",
   "metadata": {},
   "outputs": [],
   "source": [
    "no_churn_customers=df1[df1['Churn Label']=='No']['Monthly Charges']\n",
    "yes_churn_customers=df[df['Churn Label']=='Yes']['Monthly Charges']"
   ]
  },
  {
   "cell_type": "code",
   "execution_count": 13,
   "id": "5715a607-f9fc-4199-a742-2a41de26b0e7",
   "metadata": {},
   "outputs": [
    {
     "data": {
      "image/png": "[encoded data removed]",
      "text/plain": [
       "<Figure size 640x480 with 1 Axes>"
      ]
     },
     "metadata": {},
     "output_type": "display_data"
    }
   ],
   "source": [
    "plt.hist([no_churn_customers,yes_churn_customers],color=['green','red'],label=['No Churn', 'Yes Churn'],bins=10,alpha=0.5)\n",
    "plt.xlabel('Monthly Charges')\n",
    "plt.ylabel('Number of customers')\n",
    "plt.title('Histogram of Monthly Charges by Churn Status')\n",
    "plt.legend()\n",
    "plt.show()"
   ]
  },
  {
   "cell_type": "code",
   "execution_count": 14,
   "id": "da0d86cd-ee11-4141-9b02-790afa4283c2",
   "metadata": {},
   "outputs": [],
   "source": [
    "def print_unique_col_values(df):\n",
    "    for column in df:\n",
    "        if df[column].dtype == 'object':\n",
    "            print(f'{column}: {df[column].unique()}')"
   ]
  },
  {
   "cell_type": "code",
   "execution_count": 15,
   "id": "ff0aa5c6-d8b3-4609-9c41-61ff4a8d2eba",
   "metadata": {},
   "outputs": [
    {
     "name": "stdout",
     "output_type": "stream",
     "text": [
      "Country: ['United States']\n",
      "State: ['California']\n",
      "City: ['Los Angeles' 'Beverly Hills' 'Huntington Park' ... 'Tulelake'\n",
      " 'Olympic Valley' 'Redcrest']\n",
      "Lat Long: ['33.964131, -118.272783' '34.059281, -118.30742' '34.048013, -118.293953'\n",
      " ... '41.813521, -121.492666' '39.191797, -120.212401'\n",
      " '40.363446, -123.835041']\n",
      "Gender: ['Male' 'Female']\n",
      "Senior Citizen: ['No' 'Yes']\n",
      "Partner: ['No' 'Yes']\n",
      "Dependents: ['No' 'Yes']\n",
      "Phone Service: ['Yes' 'No']\n",
      "Multiple Lines: ['No' 'Yes' 'No phone service']\n",
      "Internet Service: ['DSL' 'Fiber optic' 'No']\n",
      "Online Security: ['Yes' 'No' 'No internet service']\n",
      "Online Backup: ['Yes' 'No' 'No internet service']\n",
      "Device Protection: ['No' 'Yes' 'No internet service']\n",
      "Tech Support: ['No' 'Yes' 'No internet service']\n",
      "Streaming TV: ['No' 'Yes' 'No internet service']\n",
      "Streaming Movies: ['No' 'Yes' 'No internet service']\n",
      "Contract: ['Month-to-month' 'Two year' 'One year']\n",
      "Paperless Billing: ['Yes' 'No']\n",
      "Payment Method: ['Mailed check' 'Electronic check' 'Bank transfer (automatic)'\n",
      " 'Credit card (automatic)']\n",
      "Churn Label: ['Yes' 'No']\n",
      "Churn Reason: ['Competitor made better offer' 'Moved' 'Competitor had better devices'\n",
      " 'Competitor offered higher download speeds'\n",
      " 'Competitor offered more data' 'Price too high' 'Product dissatisfaction'\n",
      " 'Service dissatisfaction' 'Lack of self-service on Website'\n",
      " 'Network reliability' 'Limited range of services'\n",
      " 'Lack of affordable download/upload speed' 'Long distance charges'\n",
      " 'Extra data charges' \"Don't know\" 'Poor expertise of online support'\n",
      " 'Poor expertise of phone support' 'Attitude of service provider'\n",
      " 'Attitude of support person' 'Deceased' nan]\n"
     ]
    }
   ],
   "source": [
    "print_unique_col_values(df1)"
   ]
  },
  {
   "cell_type": "code",
   "execution_count": 16,
   "id": "0386f9a4-07ef-4713-83e6-f9ba1ba48bba",
   "metadata": {},
   "outputs": [],
   "source": [
    "df1=df1.replace(['No internet service','No phone service'],'No')"
   ]
  },
  {
   "cell_type": "code",
   "execution_count": 17,
   "id": "6c0add21-ea02-4238-8311-f8671926d29d",
   "metadata": {},
   "outputs": [
    {
     "name": "stdout",
     "output_type": "stream",
     "text": [
      "Country: ['United States']\n",
      "State: ['California']\n",
      "City: ['Los Angeles' 'Beverly Hills' 'Huntington Park' ... 'Tulelake'\n",
      " 'Olympic Valley' 'Redcrest']\n",
      "Lat Long: ['33.964131, -118.272783' '34.059281, -118.30742' '34.048013, -118.293953'\n",
      " ... '41.813521, -121.492666' '39.191797, -120.212401'\n",
      " '40.363446, -123.835041']\n",
      "Gender: ['Male' 'Female']\n",
      "Senior Citizen: ['No' 'Yes']\n",
      "Partner: ['No' 'Yes']\n",
      "Dependents: ['No' 'Yes']\n",
      "Phone Service: ['Yes' 'No']\n",
      "Multiple Lines: ['No' 'Yes']\n",
      "Internet Service: ['DSL' 'Fiber optic' 'No']\n",
      "Online Security: ['Yes' 'No']\n",
      "Online Backup: ['Yes' 'No']\n",
      "Device Protection: ['No' 'Yes']\n",
      "Tech Support: ['No' 'Yes']\n",
      "Streaming TV: ['No' 'Yes']\n",
      "Streaming Movies: ['No' 'Yes']\n",
      "Contract: ['Month-to-month' 'Two year' 'One year']\n",
      "Paperless Billing: ['Yes' 'No']\n",
      "Payment Method: ['Mailed check' 'Electronic check' 'Bank transfer (automatic)'\n",
      " 'Credit card (automatic)']\n",
      "Churn Label: ['Yes' 'No']\n",
      "Churn Reason: ['Competitor made better offer' 'Moved' 'Competitor had better devices'\n",
      " 'Competitor offered higher download speeds'\n",
      " 'Competitor offered more data' 'Price too high' 'Product dissatisfaction'\n",
      " 'Service dissatisfaction' 'Lack of self-service on Website'\n",
      " 'Network reliability' 'Limited range of services'\n",
      " 'Lack of affordable download/upload speed' 'Long distance charges'\n",
      " 'Extra data charges' \"Don't know\" 'Poor expertise of online support'\n",
      " 'Poor expertise of phone support' 'Attitude of service provider'\n",
      " 'Attitude of support person' 'Deceased' nan]\n"
     ]
    }
   ],
   "source": [
    "print_unique_col_values(df1)"
   ]
  },
  {
   "cell_type": "code",
   "execution_count": 18,
   "id": "5b8ef1ea-d344-48f7-b711-332fbc6e1b2e",
   "metadata": {},
   "outputs": [
    {
     "name": "stdout",
     "output_type": "stream",
     "text": [
      "['Senior Citizen', 'Partner', 'Dependents', 'Phone Service', 'Multiple Lines', 'Online Security', 'Online Backup', 'Device Protection', 'Tech Support', 'Streaming TV', 'Streaming Movies', 'Paperless Billing', 'Churn Label']\n",
      "Count:[1]\n",
      "Country:['United States']\n",
      "State:['California']\n",
      "City:['Los Angeles' 'Beverly Hills' 'Huntington Park' ... 'Tulelake'\n",
      " 'Olympic Valley' 'Redcrest']\n",
      "Zip Code:[90003 90005 90006 ... 96134 96146 95569]\n",
      "Lat Long:['33.964131, -118.272783' '34.059281, -118.30742' '34.048013, -118.293953'\n",
      " ... '41.813521, -121.492666' '39.191797, -120.212401'\n",
      " '40.363446, -123.835041']\n",
      "Latitude:[33.964131 34.059281 34.048013 ... 41.813521 39.191797 40.363446]\n",
      "Longitude:[-118.272783 -118.30742  -118.293953 ... -121.492666 -120.212401\n",
      " -123.835041]\n",
      "Gender:['Male' 'Female']\n",
      "Senior Citizen:[0 1]\n",
      "Partner:[0 1]\n",
      "Dependents:[0 1]\n",
      "Tenure Months:[ 2  8 28 49 10  1 47 17  5 34 11 15 18  9  7 12 25 68 55 37  3 27 20  4\n",
      " 58 53 13  6 19 59 16 52 24 32 38 54 43 63 21 69 22 61 60 48 40 23 39 35\n",
      " 56 65 33 30 45 46 62 70 50 44 71 26 14 41 66 64 29 42 67 51 31 57 36 72]\n",
      "Phone Service:[1 0]\n",
      "Multiple Lines:[0 1]\n",
      "Internet Service:['DSL' 'Fiber optic' 'No']\n",
      "Online Security:[1 0]\n",
      "Online Backup:[1 0]\n",
      "Device Protection:[0 1]\n",
      "Tech Support:[0 1]\n",
      "Streaming TV:[0 1]\n",
      "Streaming Movies:[0 1]\n",
      "Contract:['Month-to-month' 'Two year' 'One year']\n",
      "Paperless Billing:[1 0]\n",
      "Payment Method:['Mailed check' 'Electronic check' 'Bank transfer (automatic)'\n",
      " 'Credit card (automatic)']\n",
      "Monthly Charges:[ 53.85  70.7   99.65 ... 108.35  63.1   78.7 ]\n",
      "Total Charges:[ 108.15  151.65  820.5  ... 7362.9   346.45 6844.5 ]\n",
      "Churn Label:[1 0]\n",
      "Churn Value:[1 0]\n",
      "Churn Score:[ 86  67  84  89  78 100  92  77  97  74  66  65  70  90  82  69  81  96\n",
      "  87  88  75  76  95  99  80  73  94  83  98  71  85  68  91  93  72  79\n",
      "  27  61  43  51  58  39  35  57  53  21  38  40  41  22  25  64  49  62\n",
      "  52  59  29  33  20  30  26  54  56  55  28  37   9  60  24  63  23  47\n",
      "  32   8  46  42  48  36  34   7  50  44  31   5  45]\n",
      "CLTV:[3239 2701 5372 ... 2770 4645 5553]\n",
      "Churn Reason:['Competitor made better offer' 'Moved' 'Competitor had better devices'\n",
      " 'Competitor offered higher download speeds'\n",
      " 'Competitor offered more data' 'Price too high' 'Product dissatisfaction'\n",
      " 'Service dissatisfaction' 'Lack of self-service on Website'\n",
      " 'Network reliability' 'Limited range of services'\n",
      " 'Lack of affordable download/upload speed' 'Long distance charges'\n",
      " 'Extra data charges' \"Don't know\" 'Poor expertise of online support'\n",
      " 'Poor expertise of phone support' 'Attitude of service provider'\n",
      " 'Attitude of support person' 'Deceased' nan]\n"
     ]
    }
   ],
   "source": [
    "def is_yes_no(column):\n",
    "    return set(column.unique()).issubset({'No','Yes'})\n",
    "yes_no_columns=[col for col in df1.columns if is_yes_no(df1[col])]\n",
    "print(yes_no_columns)\n",
    "\n",
    "for col in yes_no_columns:\n",
    "    df1[col]=df1[col].replace({'No':0,'Yes':1})\n",
    "    df1[col] = df1[col].infer_objects(copy=False) \n",
    "for col in df1:\n",
    "    print(f'{col}:{df1[col].unique()}')"
   ]
  },
  {
   "cell_type": "code",
   "execution_count": 19,
   "id": "07658aa2-ac52-446b-8329-793fc45c4eb8",
   "metadata": {},
   "outputs": [
    {
     "name": "stdout",
     "output_type": "stream",
     "text": [
      "[0 1]\n"
     ]
    }
   ],
   "source": [
    "df1['Gender']=df1['Gender'].replace({'Female':1,'Male':0})\n",
    "df1['Gender'] = df1['Gender'].infer_objects(copy=False)\n",
    "print(df1['Gender'].unique())"
   ]
  },
  {
   "cell_type": "code",
   "execution_count": 20,
   "id": "3b1cade0-fd9c-42d4-8aeb-2c8a9ac0d742",
   "metadata": {},
   "outputs": [
    {
     "name": "stdout",
     "output_type": "stream",
     "text": [
      "Index(['Count', 'Country', 'State', 'City', 'Zip Code', 'Lat Long', 'Latitude',\n",
      "       'Longitude', 'Gender', 'Senior Citizen', 'Partner', 'Dependents',\n",
      "       'Tenure Months', 'Phone Service', 'Multiple Lines', 'Online Security',\n",
      "       'Online Backup', 'Device Protection', 'Tech Support', 'Streaming TV',\n",
      "       'Streaming Movies', 'Paperless Billing', 'Monthly Charges',\n",
      "       'Total Charges', 'Churn Label', 'Churn Value', 'Churn Score', 'CLTV',\n",
      "       'Churn Reason', 'Internet Service_DSL', 'Internet Service_Fiber optic',\n",
      "       'Internet Service_No', 'Contract_Month-to-month', 'Contract_One year',\n",
      "       'Contract_Two year', 'Payment Method_Bank transfer (automatic)',\n",
      "       'Payment Method_Credit card (automatic)',\n",
      "       'Payment Method_Electronic check', 'Payment Method_Mailed check'],\n",
      "      dtype='object')\n"
     ]
    }
   ],
   "source": [
    "df2=pd.get_dummies(data=df1,columns=['Internet Service','Contract','Payment Method'])\n",
    "print(df2.columns)"
   ]
  },
  {
   "cell_type": "code",
   "execution_count": 21,
   "id": "dd79d6dc-548f-4f3d-89c3-1752cf765542",
   "metadata": {},
   "outputs": [
    {
     "data": {
      "text/html": [
       "<div>\n",
       "<style scoped>\n",
       "    .dataframe tbody tr th:only-of-type {\n",
       "        vertical-align: middle;\n",
       "    }\n",
       "\n",
       "    .dataframe tbody tr th {\n",
       "        vertical-align: top;\n",
       "    }\n",
       "\n",
       "    .dataframe thead th {\n",
       "        text-align: right;\n",
       "    }\n",
       "</style>\n",
       "<table border=\"1\" class=\"dataframe\">\n",
       "  <thead>\n",
       "    <tr style=\"text-align: right;\">\n",
       "      <th></th>\n",
       "      <th>Count</th>\n",
       "      <th>Country</th>\n",
       "      <th>State</th>\n",
       "      <th>City</th>\n",
       "      <th>Zip Code</th>\n",
       "      <th>Lat Long</th>\n",
       "      <th>Latitude</th>\n",
       "      <th>Longitude</th>\n",
       "      <th>Gender</th>\n",
       "      <th>Senior Citizen</th>\n",
       "      <th>...</th>\n",
       "      <th>Internet Service_DSL</th>\n",
       "      <th>Internet Service_Fiber optic</th>\n",
       "      <th>Internet Service_No</th>\n",
       "      <th>Contract_Month-to-month</th>\n",
       "      <th>Contract_One year</th>\n",
       "      <th>Contract_Two year</th>\n",
       "      <th>Payment Method_Bank transfer (automatic)</th>\n",
       "      <th>Payment Method_Credit card (automatic)</th>\n",
       "      <th>Payment Method_Electronic check</th>\n",
       "      <th>Payment Method_Mailed check</th>\n",
       "    </tr>\n",
       "  </thead>\n",
       "  <tbody>\n",
       "    <tr>\n",
       "      <th>4389</th>\n",
       "      <td>1</td>\n",
       "      <td>United States</td>\n",
       "      <td>California</td>\n",
       "      <td>Torrance</td>\n",
       "      <td>90504</td>\n",
       "      <td>33.867257, -118.330794</td>\n",
       "      <td>33.867257</td>\n",
       "      <td>-118.330794</td>\n",
       "      <td>1</td>\n",
       "      <td>0</td>\n",
       "      <td>...</td>\n",
       "      <td>True</td>\n",
       "      <td>False</td>\n",
       "      <td>False</td>\n",
       "      <td>False</td>\n",
       "      <td>False</td>\n",
       "      <td>True</td>\n",
       "      <td>False</td>\n",
       "      <td>False</td>\n",
       "      <td>False</td>\n",
       "      <td>True</td>\n",
       "    </tr>\n",
       "    <tr>\n",
       "      <th>5903</th>\n",
       "      <td>1</td>\n",
       "      <td>United States</td>\n",
       "      <td>California</td>\n",
       "      <td>Murrieta</td>\n",
       "      <td>92563</td>\n",
       "      <td>33.581045, -117.14719</td>\n",
       "      <td>33.581045</td>\n",
       "      <td>-117.147190</td>\n",
       "      <td>1</td>\n",
       "      <td>0</td>\n",
       "      <td>...</td>\n",
       "      <td>False</td>\n",
       "      <td>True</td>\n",
       "      <td>False</td>\n",
       "      <td>True</td>\n",
       "      <td>False</td>\n",
       "      <td>False</td>\n",
       "      <td>False</td>\n",
       "      <td>False</td>\n",
       "      <td>True</td>\n",
       "      <td>False</td>\n",
       "    </tr>\n",
       "    <tr>\n",
       "      <th>6699</th>\n",
       "      <td>1</td>\n",
       "      <td>United States</td>\n",
       "      <td>California</td>\n",
       "      <td>Chilcoot</td>\n",
       "      <td>96105</td>\n",
       "      <td>39.872961, -120.198876</td>\n",
       "      <td>39.872961</td>\n",
       "      <td>-120.198876</td>\n",
       "      <td>1</td>\n",
       "      <td>0</td>\n",
       "      <td>...</td>\n",
       "      <td>True</td>\n",
       "      <td>False</td>\n",
       "      <td>False</td>\n",
       "      <td>False</td>\n",
       "      <td>True</td>\n",
       "      <td>False</td>\n",
       "      <td>False</td>\n",
       "      <td>False</td>\n",
       "      <td>False</td>\n",
       "      <td>True</td>\n",
       "    </tr>\n",
       "    <tr>\n",
       "      <th>2346</th>\n",
       "      <td>1</td>\n",
       "      <td>United States</td>\n",
       "      <td>California</td>\n",
       "      <td>Santa Barbara</td>\n",
       "      <td>93103</td>\n",
       "      <td>34.438581, -119.685368</td>\n",
       "      <td>34.438581</td>\n",
       "      <td>-119.685368</td>\n",
       "      <td>1</td>\n",
       "      <td>0</td>\n",
       "      <td>...</td>\n",
       "      <td>True</td>\n",
       "      <td>False</td>\n",
       "      <td>False</td>\n",
       "      <td>True</td>\n",
       "      <td>False</td>\n",
       "      <td>False</td>\n",
       "      <td>True</td>\n",
       "      <td>False</td>\n",
       "      <td>False</td>\n",
       "      <td>False</td>\n",
       "    </tr>\n",
       "  </tbody>\n",
       "</table>\n",
       "<p>4 rows × 39 columns</p>\n",
       "</div>"
      ],
      "text/plain": [
       "      Count        Country       State           City  Zip Code  \\\n",
       "4389      1  United States  California       Torrance     90504   \n",
       "5903      1  United States  California       Murrieta     92563   \n",
       "6699      1  United States  California       Chilcoot     96105   \n",
       "2346      1  United States  California  Santa Barbara     93103   \n",
       "\n",
       "                    Lat Long   Latitude   Longitude  Gender  Senior Citizen  \\\n",
       "4389  33.867257, -118.330794  33.867257 -118.330794       1               0   \n",
       "5903   33.581045, -117.14719  33.581045 -117.147190       1               0   \n",
       "6699  39.872961, -120.198876  39.872961 -120.198876       1               0   \n",
       "2346  34.438581, -119.685368  34.438581 -119.685368       1               0   \n",
       "\n",
       "      ...  Internet Service_DSL  Internet Service_Fiber optic  \\\n",
       "4389  ...                  True                         False   \n",
       "5903  ...                 False                          True   \n",
       "6699  ...                  True                         False   \n",
       "2346  ...                  True                         False   \n",
       "\n",
       "      Internet Service_No  Contract_Month-to-month  Contract_One year  \\\n",
       "4389                False                    False              False   \n",
       "5903                False                     True              False   \n",
       "6699                False                    False               True   \n",
       "2346                False                     True              False   \n",
       "\n",
       "      Contract_Two year  Payment Method_Bank transfer (automatic)  \\\n",
       "4389               True                                     False   \n",
       "5903              False                                     False   \n",
       "6699              False                                     False   \n",
       "2346              False                                      True   \n",
       "\n",
       "      Payment Method_Credit card (automatic)  Payment Method_Electronic check  \\\n",
       "4389                                   False                            False   \n",
       "5903                                   False                             True   \n",
       "6699                                   False                            False   \n",
       "2346                                   False                            False   \n",
       "\n",
       "      Payment Method_Mailed check  \n",
       "4389                         True  \n",
       "5903                        False  \n",
       "6699                         True  \n",
       "2346                        False  \n",
       "\n",
       "[4 rows x 39 columns]"
      ]
     },
     "execution_count": 21,
     "metadata": {},
     "output_type": "execute_result"
    }
   ],
   "source": [
    "df2.sample(4)"
   ]
  },
  {
   "cell_type": "code",
   "execution_count": 22,
   "id": "aa454273-9aa6-4534-b71d-467bfbe81301",
   "metadata": {},
   "outputs": [
    {
     "name": "stdout",
     "output_type": "stream",
     "text": [
      "Count                                         int64\n",
      "Country                                      object\n",
      "State                                        object\n",
      "City                                         object\n",
      "Zip Code                                      int64\n",
      "Lat Long                                     object\n",
      "Latitude                                    float64\n",
      "Longitude                                   float64\n",
      "Gender                                        int64\n",
      "Senior Citizen                                int64\n",
      "Partner                                       int64\n",
      "Dependents                                    int64\n",
      "Tenure Months                                 int64\n",
      "Phone Service                                 int64\n",
      "Multiple Lines                                int64\n",
      "Online Security                               int64\n",
      "Online Backup                                 int64\n",
      "Device Protection                             int64\n",
      "Tech Support                                  int64\n",
      "Streaming TV                                  int64\n",
      "Streaming Movies                              int64\n",
      "Paperless Billing                             int64\n",
      "Monthly Charges                             float64\n",
      "Total Charges                               float64\n",
      "Churn Label                                   int64\n",
      "Churn Value                                   int64\n",
      "Churn Score                                   int64\n",
      "CLTV                                          int64\n",
      "Churn Reason                                 object\n",
      "Internet Service_DSL                           bool\n",
      "Internet Service_Fiber optic                   bool\n",
      "Internet Service_No                            bool\n",
      "Contract_Month-to-month                        bool\n",
      "Contract_One year                              bool\n",
      "Contract_Two year                              bool\n",
      "Payment Method_Bank transfer (automatic)       bool\n",
      "Payment Method_Credit card (automatic)         bool\n",
      "Payment Method_Electronic check                bool\n",
      "Payment Method_Mailed check                    bool\n",
      "dtype: object\n"
     ]
    }
   ],
   "source": [
    "print(df2.dtypes)"
   ]
  },
  {
   "cell_type": "code",
   "execution_count": 23,
   "id": "2698cf1f-3763-4c94-96f3-55acb94dd48e",
   "metadata": {},
   "outputs": [],
   "source": [
    "bool_columns = ['Internet Service_DSL','Internet Service_Fiber optic','Internet Service_No','Contract_Month-to-month','Contract_One year','Contract_Two year','Payment Method_Bank transfer (automatic)','Payment Method_Credit card (automatic)','Payment Method_Electronic check','Payment Method_Mailed check' ]\n",
    "\n",
    "for col in bool_columns:\n",
    "    df2[col] = df2[col].astype(int)"
   ]
  },
  {
   "cell_type": "code",
   "execution_count": 24,
   "id": "ea591faa-913d-42cf-8b21-4ecdadf84dac",
   "metadata": {},
   "outputs": [
    {
     "name": "stdout",
     "output_type": "stream",
     "text": [
      "Count                                         int64\n",
      "Country                                      object\n",
      "State                                        object\n",
      "City                                         object\n",
      "Zip Code                                      int64\n",
      "Lat Long                                     object\n",
      "Latitude                                    float64\n",
      "Longitude                                   float64\n",
      "Gender                                        int64\n",
      "Senior Citizen                                int64\n",
      "Partner                                       int64\n",
      "Dependents                                    int64\n",
      "Tenure Months                                 int64\n",
      "Phone Service                                 int64\n",
      "Multiple Lines                                int64\n",
      "Online Security                               int64\n",
      "Online Backup                                 int64\n",
      "Device Protection                             int64\n",
      "Tech Support                                  int64\n",
      "Streaming TV                                  int64\n",
      "Streaming Movies                              int64\n",
      "Paperless Billing                             int64\n",
      "Monthly Charges                             float64\n",
      "Total Charges                               float64\n",
      "Churn Label                                   int64\n",
      "Churn Value                                   int64\n",
      "Churn Score                                   int64\n",
      "CLTV                                          int64\n",
      "Churn Reason                                 object\n",
      "Internet Service_DSL                          int64\n",
      "Internet Service_Fiber optic                  int64\n",
      "Internet Service_No                           int64\n",
      "Contract_Month-to-month                       int64\n",
      "Contract_One year                             int64\n",
      "Contract_Two year                             int64\n",
      "Payment Method_Bank transfer (automatic)      int64\n",
      "Payment Method_Credit card (automatic)        int64\n",
      "Payment Method_Electronic check               int64\n",
      "Payment Method_Mailed check                   int64\n",
      "dtype: object\n"
     ]
    }
   ],
   "source": [
    "print(df2.dtypes)"
   ]
  },
  {
   "cell_type": "code",
   "execution_count": 25,
   "id": "789fde75-8853-4113-9ba9-dfcecd11d696",
   "metadata": {},
   "outputs": [
    {
     "name": "stdout",
     "output_type": "stream",
     "text": [
      "Count                                         int64\n",
      "Country                                      object\n",
      "State                                        object\n",
      "City                                         object\n",
      "Zip Code                                      int64\n",
      "Lat Long                                     object\n",
      "Latitude                                    float64\n",
      "Longitude                                   float64\n",
      "Gender                                        int64\n",
      "Senior Citizen                                int64\n",
      "Partner                                       int64\n",
      "Dependents                                    int64\n",
      "Tenure Months                                 int64\n",
      "Phone Service                                 int64\n",
      "Multiple Lines                                int64\n",
      "Online Security                               int64\n",
      "Online Backup                                 int64\n",
      "Device Protection                             int64\n",
      "Tech Support                                  int64\n",
      "Streaming TV                                  int64\n",
      "Streaming Movies                              int64\n",
      "Paperless Billing                             int64\n",
      "Monthly Charges                             float64\n",
      "Total Charges                               float64\n",
      "Churn Label                                   int64\n",
      "Churn Value                                   int64\n",
      "Churn Score                                   int64\n",
      "CLTV                                          int64\n",
      "Churn Reason                                 object\n",
      "Internet Service_DSL                          uint8\n",
      "Internet Service_Fiber optic                  uint8\n",
      "Internet Service_No                           uint8\n",
      "Contract_Month-to-month                       uint8\n",
      "Contract_One year                             uint8\n",
      "Contract_Two year                             uint8\n",
      "Payment Method_Bank transfer (automatic)      uint8\n",
      "Payment Method_Credit card (automatic)        uint8\n",
      "Payment Method_Electronic check               uint8\n",
      "Payment Method_Mailed check                   uint8\n",
      "dtype: object\n"
     ]
    }
   ],
   "source": [
    "columns_to_convert = [\n",
    "    'Internet Service_DSL',\n",
    "    'Internet Service_Fiber optic',\n",
    "    'Internet Service_No',\n",
    "    'Contract_Month-to-month',\n",
    "    'Contract_One year',\n",
    "    'Contract_Two year',\n",
    "    'Payment Method_Bank transfer (automatic)',\n",
    "    'Payment Method_Credit card (automatic)',\n",
    "    'Payment Method_Electronic check',\n",
    "    'Payment Method_Mailed check'\n",
    "]\n",
    "\n",
    "df2[columns_to_convert] = df2[columns_to_convert].astype('uint8')\n",
    "print(df2.dtypes)"
   ]
  },
  {
   "cell_type": "code",
   "execution_count": 26,
   "id": "89e4425b-6d9a-4c6d-84d0-252a47857768",
   "metadata": {},
   "outputs": [
    {
     "data": {
      "text/plain": [
       "\"col_to_scale=['Tenure Months','Monthly Charges','Total Charges']\\nfrom sklearn.preprocessing import MinMaxScaler\\nscaler=MinMaxScaler()\\ndf2[col_to_scale]=scaler.fit_transform(df2[col_to_scale])\""
      ]
     },
     "execution_count": 26,
     "metadata": {},
     "output_type": "execute_result"
    }
   ],
   "source": [
    "'''col_to_scale=['Tenure Months','Monthly Charges','Total Charges']\n",
    "from sklearn.preprocessing import MinMaxScaler\n",
    "scaler=MinMaxScaler()\n",
    "df2[col_to_scale]=scaler.fit_transform(df2[col_to_scale])'''"
   ]
  },
  {
   "cell_type": "code",
   "execution_count": 27,
   "id": "ec8c30ba-8b11-4310-acb7-9a936df452dc",
   "metadata": {},
   "outputs": [
    {
     "name": "stdout",
     "output_type": "stream",
     "text": [
      "Count:[1]\n",
      "Country:['United States']\n",
      "State:['California']\n",
      "City:['Los Angeles' 'Beverly Hills' 'Huntington Park' ... 'Tulelake'\n",
      " 'Olympic Valley' 'Redcrest']\n",
      "Zip Code:[90003 90005 90006 ... 96134 96146 95569]\n",
      "Lat Long:['33.964131, -118.272783' '34.059281, -118.30742' '34.048013, -118.293953'\n",
      " ... '41.813521, -121.492666' '39.191797, -120.212401'\n",
      " '40.363446, -123.835041']\n",
      "Latitude:[33.964131 34.059281 34.048013 ... 41.813521 39.191797 40.363446]\n",
      "Longitude:[-118.272783 -118.30742  -118.293953 ... -121.492666 -120.212401\n",
      " -123.835041]\n",
      "Gender:[0 1]\n",
      "Senior Citizen:[0 1]\n",
      "Partner:[0 1]\n",
      "Dependents:[0 1]\n",
      "Tenure Months:[ 2  8 28 49 10  1 47 17  5 34 11 15 18  9  7 12 25 68 55 37  3 27 20  4\n",
      " 58 53 13  6 19 59 16 52 24 32 38 54 43 63 21 69 22 61 60 48 40 23 39 35\n",
      " 56 65 33 30 45 46 62 70 50 44 71 26 14 41 66 64 29 42 67 51 31 57 36 72]\n",
      "Phone Service:[1 0]\n",
      "Multiple Lines:[0 1]\n",
      "Online Security:[1 0]\n",
      "Online Backup:[1 0]\n",
      "Device Protection:[0 1]\n",
      "Tech Support:[0 1]\n",
      "Streaming TV:[0 1]\n",
      "Streaming Movies:[0 1]\n",
      "Paperless Billing:[1 0]\n",
      "Monthly Charges:[ 53.85  70.7   99.65 ... 108.35  63.1   78.7 ]\n",
      "Total Charges:[ 108.15  151.65  820.5  ... 7362.9   346.45 6844.5 ]\n",
      "Churn Label:[1 0]\n",
      "Churn Value:[1 0]\n",
      "Churn Score:[ 86  67  84  89  78 100  92  77  97  74  66  65  70  90  82  69  81  96\n",
      "  87  88  75  76  95  99  80  73  94  83  98  71  85  68  91  93  72  79\n",
      "  27  61  43  51  58  39  35  57  53  21  38  40  41  22  25  64  49  62\n",
      "  52  59  29  33  20  30  26  54  56  55  28  37   9  60  24  63  23  47\n",
      "  32   8  46  42  48  36  34   7  50  44  31   5  45]\n",
      "CLTV:[3239 2701 5372 ... 2770 4645 5553]\n",
      "Churn Reason:['Competitor made better offer' 'Moved' 'Competitor had better devices'\n",
      " 'Competitor offered higher download speeds'\n",
      " 'Competitor offered more data' 'Price too high' 'Product dissatisfaction'\n",
      " 'Service dissatisfaction' 'Lack of self-service on Website'\n",
      " 'Network reliability' 'Limited range of services'\n",
      " 'Lack of affordable download/upload speed' 'Long distance charges'\n",
      " 'Extra data charges' \"Don't know\" 'Poor expertise of online support'\n",
      " 'Poor expertise of phone support' 'Attitude of service provider'\n",
      " 'Attitude of support person' 'Deceased' nan]\n",
      "Internet Service_DSL:[1 0]\n",
      "Internet Service_Fiber optic:[0 1]\n",
      "Internet Service_No:[0 1]\n",
      "Contract_Month-to-month:[1 0]\n",
      "Contract_One year:[0 1]\n",
      "Contract_Two year:[0 1]\n",
      "Payment Method_Bank transfer (automatic):[0 1]\n",
      "Payment Method_Credit card (automatic):[0 1]\n",
      "Payment Method_Electronic check:[0 1]\n",
      "Payment Method_Mailed check:[1 0]\n"
     ]
    }
   ],
   "source": [
    "for col in df2:\n",
    "    print(f'{col}:{df2[col].unique()}')"
   ]
  },
  {
   "cell_type": "code",
   "execution_count": 28,
   "id": "e55d362c-ae86-4fc9-afc2-0ff33b8275d2",
   "metadata": {},
   "outputs": [
    {
     "name": "stdout",
     "output_type": "stream",
     "text": [
      "Index(['Latitude', 'Longitude', 'Gender', 'Senior Citizen', 'Partner',\n",
      "       'Dependents', 'Tenure Months', 'Phone Service', 'Multiple Lines',\n",
      "       'Online Security', 'Online Backup', 'Device Protection', 'Tech Support',\n",
      "       'Streaming TV', 'Streaming Movies', 'Paperless Billing',\n",
      "       'Monthly Charges', 'Total Charges', 'Churn Label', 'Churn Value',\n",
      "       'Churn Score', 'CLTV', 'Internet Service_DSL',\n",
      "       'Internet Service_Fiber optic', 'Internet Service_No',\n",
      "       'Contract_Month-to-month', 'Contract_One year', 'Contract_Two year',\n",
      "       'Payment Method_Bank transfer (automatic)',\n",
      "       'Payment Method_Credit card (automatic)',\n",
      "       'Payment Method_Electronic check', 'Payment Method_Mailed check'],\n",
      "      dtype='object')\n"
     ]
    }
   ],
   "source": [
    "columns_to_drop=['Count','Country','State','Zip Code','City','Lat Long','Churn Reason']\n",
    "df3=df2.drop(columns=columns_to_drop)\n",
    "print(df3.columns)"
   ]
  },
  {
   "cell_type": "code",
   "execution_count": 29,
   "id": "b19c84ab-4619-453e-a17f-fd0ca36a18b6",
   "metadata": {},
   "outputs": [
    {
     "name": "stdout",
     "output_type": "stream",
     "text": [
      "Latitude:[33.964131 34.059281 34.048013 ... 34.559882 34.1678   34.424926]\n",
      "Longitude:[-118.272783 -118.30742  -118.293953 ... -115.637164 -116.86433\n",
      " -117.184503]\n",
      "Gender:[0 1 1 ... 1 1 0]\n",
      "Senior Citizen:[0 0 0 ... 0 0 0]\n",
      "Partner:[0 0 0 ... 1 1 0]\n",
      "Dependents:[0 1 1 ... 1 1 0]\n",
      "Tenure Months:[ 2  2  8 ... 72 11 66]\n",
      "Phone Service:[1 1 1 ... 1 0 1]\n",
      "Multiple Lines:[0 0 1 ... 1 0 0]\n",
      "Online Security:[1 0 0 ... 0 1 1]\n",
      "Online Backup:[1 0 0 ... 1 0 0]\n",
      "Device Protection:[0 0 1 ... 1 0 1]\n",
      "Tech Support:[0 0 0 ... 0 0 1]\n",
      "Streaming TV:[0 0 1 ... 1 0 1]\n",
      "Streaming Movies:[0 0 1 ... 1 0 1]\n",
      "Paperless Billing:[1 1 1 ... 1 1 1]\n",
      "Monthly Charges:[ 53.85  70.7   99.65 ... 103.2   29.6  105.65]\n",
      "Total Charges:[ 108.15  151.65  820.5  ... 7362.9   346.45 6844.5 ]\n",
      "Churn Label:[1 1 1 ... 0 0 0]\n",
      "Churn Value:[1 1 1 ... 0 0 0]\n",
      "Churn Score:[86 67 86 ... 71 59 38]\n",
      "CLTV:[3239 2701 5372 ... 5560 2793 5097]\n",
      "Internet Service_DSL:[1 0 0 ... 0 1 0]\n",
      "Internet Service_Fiber optic:[0 1 1 ... 1 0 1]\n",
      "Internet Service_No:[0 0 0 ... 0 0 0]\n",
      "Contract_Month-to-month:[1 1 1 ... 0 1 0]\n",
      "Contract_One year:[0 0 0 ... 1 0 0]\n",
      "Contract_Two year:[0 0 0 ... 0 0 1]\n",
      "Payment Method_Bank transfer (automatic):[0 0 0 ... 0 0 1]\n",
      "Payment Method_Credit card (automatic):[0 0 0 ... 1 0 0]\n",
      "Payment Method_Electronic check:[0 1 1 ... 0 1 0]\n",
      "Payment Method_Mailed check:[1 0 0 ... 0 0 0]\n"
     ]
    }
   ],
   "source": [
    "for col in df3:\n",
    "    print(f'{col}:{df3[col].values}')"
   ]
  },
  {
   "cell_type": "code",
   "execution_count": 30,
   "id": "554f4e3e-679f-4896-b28c-70b4f5a2ca69",
   "metadata": {},
   "outputs": [
    {
     "name": "stdout",
     "output_type": "stream",
     "text": [
      "(7032, 32)\n"
     ]
    }
   ],
   "source": [
    "print(df3.shape)"
   ]
  },
  {
   "cell_type": "code",
   "execution_count": 31,
   "id": "b54700e2-d266-4111-b284-1b87fe3fdbb8",
   "metadata": {},
   "outputs": [],
   "source": [
    "X=df3.drop('Churn Label',axis=1)\n",
    "y=df3['Churn Label']"
   ]
  },
  {
   "cell_type": "code",
   "execution_count": 32,
   "id": "2735d9f5-e145-4e55-a211-8f315602cfd5",
   "metadata": {},
   "outputs": [
    {
     "data": {
      "text/plain": [
       "Churn Label\n",
       "0    5163\n",
       "1    1869\n",
       "Name: count, dtype: int64"
      ]
     },
     "execution_count": 32,
     "metadata": {},
     "output_type": "execute_result"
    }
   ],
   "source": [
    "y.value_counts()"
   ]
  },
  {
   "cell_type": "code",
   "execution_count": 33,
   "id": "7478cd24-64ae-4933-9c93-4d7f834a1545",
   "metadata": {},
   "outputs": [],
   "source": [
    "from sklearn.model_selection import train_test_split\n",
    "X_train,X_test,y_train,y_test=train_test_split(X,y,test_size=0.2,random_state=5)"
   ]
  },
  {
   "cell_type": "code",
   "execution_count": 34,
   "id": "98bc7a87-25f2-4d38-8471-17372791a943",
   "metadata": {
    "scrolled": true
   },
   "outputs": [
    {
     "data": {
      "text/plain": [
       "Churn Label\n",
       "0    4114\n",
       "1    1511\n",
       "Name: count, dtype: int64"
      ]
     },
     "execution_count": 34,
     "metadata": {},
     "output_type": "execute_result"
    }
   ],
   "source": [
    "y_train.value_counts()"
   ]
  },
  {
   "cell_type": "code",
   "execution_count": 35,
   "id": "c82b1e69-cf70-4658-9a95-bc1882cddbeb",
   "metadata": {},
   "outputs": [
    {
     "data": {
      "text/plain": [
       "'from imblearn.over_sampling import SMOTE#Synthetic Minority Over-sampling Technique\\nsmote = SMOTE(random_state=5,sampling_strategy=0.5)\\nX_train_resampled, y_train_resampled = smote.fit_resample(X_train, y_train)\\n\\n# Check the new class distribution\\nprint(\"Original training set shape:\", y_train.value_counts())\\nprint(\"Resampled training set shape:\", y_train_resampled.value_counts())'"
      ]
     },
     "execution_count": 35,
     "metadata": {},
     "output_type": "execute_result"
    }
   ],
   "source": [
    "'''from imblearn.over_sampling import SMOTE#Synthetic Minority Over-sampling Technique\n",
    "smote = SMOTE(random_state=5,sampling_strategy=0.5)\n",
    "X_train_resampled, y_train_resampled = smote.fit_resample(X_train, y_train)\n",
    "\n",
    "# Check the new class distribution\n",
    "print(\"Original training set shape:\", y_train.value_counts())\n",
    "print(\"Resampled training set shape:\", y_train_resampled.value_counts())'''"
   ]
  },
  {
   "cell_type": "code",
   "execution_count": 36,
   "id": "89dc16b3-97e0-4f07-a9cd-cefa07b1db7c",
   "metadata": {},
   "outputs": [],
   "source": [
    "from sklearn.preprocessing import StandardScaler\n",
    "\n",
    "scaler = StandardScaler()\n",
    "X_train= scaler.fit_transform(X_train)\n",
    "X_test = scaler.transform(X_test)"
   ]
  },
  {
   "cell_type": "code",
   "execution_count": 37,
   "id": "8d546e62-8167-4670-a310-7a73d1173cdd",
   "metadata": {},
   "outputs": [],
   "source": [
    "import numpy as np\n",
    "#import tensorflow as tf\n",
    "from tensorflow.keras.models import Sequential\n",
    "from tensorflow.keras.layers import Dense,Input,Dropout\n",
    "from sklearn.utils.class_weight import compute_class_weight\n",
    "from sklearn.metrics import confusion_matrix , classification_report\n",
    "from tensorflow.keras.regularizers import l2\n",
    "#from sklearn.utils.class_weight import compute_class_weight"
   ]
  },
  {
   "cell_type": "code",
   "execution_count": 38,
   "id": "56a3f75a-df37-41ab-b3c1-11bb1c390689",
   "metadata": {},
   "outputs": [
    {
     "name": "stdout",
     "output_type": "stream",
     "text": [
      "Class Weights: {0: np.float64(0.6836412250850753), 1: np.float64(1.8613500992720053)}\n"
     ]
    }
   ],
   "source": [
    "class_weights = compute_class_weight('balanced', classes=np.unique(y_train), y=y_train)\n",
    "class_weight_dict = dict(enumerate(class_weights))\n",
    "\n",
    "print(\"Class Weights:\", class_weight_dict)\n",
    "\n",
    "# Build the model\n",
    "def build_model(input_shape):\n",
    "        model = Sequential([\n",
    "        Input(shape=input_shape),\n",
    "        Dense(64, activation='relu', kernel_regularizer=l2(0.01)),\n",
    "        Dropout(0.5),\n",
    "        Dense(32, activation='relu', kernel_regularizer=l2(0.01)),\n",
    "        Dropout(0.5),\n",
    "        Dense(16, activation='relu', kernel_regularizer=l2(0.01)),\n",
    "        Dropout(0.5),\n",
    "        Dense(1, activation='sigmoid')\n",
    "        ])\n",
    "        return model\n",
    "        \n",
    "input_shape=(X_train.shape[1],)\n",
    "model=build_model(input_shape)\n"
   ]
  },
  {
   "cell_type": "code",
   "execution_count": 39,
   "id": "a7dca766-a5fe-4460-9e44-42c1433b9778",
   "metadata": {},
   "outputs": [
    {
     "data": {
      "text/html": [
       "<pre style=\"white-space:pre;overflow-x:auto;line-height:normal;font-family:Menlo,'DejaVu Sans Mono',consolas,'Courier New',monospace\"><span style=\"font-weight: bold\">Model: \"sequential\"</span>\n",
       "</pre>\n"
      ],
      "text/plain": [
       "\u001b[1mModel: \"sequential\"\u001b[0m\n"
      ]
     },
     "metadata": {},
     "output_type": "display_data"
    },
    {
     "data": {
      "text/html": [
       "<pre style=\"white-space:pre;overflow-x:auto;line-height:normal;font-family:Menlo,'DejaVu Sans Mono',consolas,'Courier New',monospace\">┏━━━━━━━━━━━━━━━━━━━━━━━━━━━━━━━━━━━━━━┳━━━━━━━━━━━━━━━━━━━━━━━━━━━━━┳━━━━━━━━━━━━━━━━━┓\n",
       "┃<span style=\"font-weight: bold\"> Layer (type)                         </span>┃<span style=\"font-weight: bold\"> Output Shape                </span>┃<span style=\"font-weight: bold\">         Param # </span>┃\n",
       "┡━━━━━━━━━━━━━━━━━━━━━━━━━━━━━━━━━━━━━━╇━━━━━━━━━━━━━━━━━━━━━━━━━━━━━╇━━━━━━━━━━━━━━━━━┩\n",
       "│ dense (<span style=\"color: #0087ff; text-decoration-color: #0087ff\">Dense</span>)                        │ (<span style=\"color: #00d7ff; text-decoration-color: #00d7ff\">None</span>, <span style=\"color: #00af00; text-decoration-color: #00af00\">64</span>)                  │           <span style=\"color: #00af00; text-decoration-color: #00af00\">2,048</span> │\n",
       "├──────────────────────────────────────┼─────────────────────────────┼─────────────────┤\n",
       "│ dropout (<span style=\"color: #0087ff; text-decoration-color: #0087ff\">Dropout</span>)                    │ (<span style=\"color: #00d7ff; text-decoration-color: #00d7ff\">None</span>, <span style=\"color: #00af00; text-decoration-color: #00af00\">64</span>)                  │               <span style=\"color: #00af00; text-decoration-color: #00af00\">0</span> │\n",
       "├──────────────────────────────────────┼─────────────────────────────┼─────────────────┤\n",
       "│ dense_1 (<span style=\"color: #0087ff; text-decoration-color: #0087ff\">Dense</span>)                      │ (<span style=\"color: #00d7ff; text-decoration-color: #00d7ff\">None</span>, <span style=\"color: #00af00; text-decoration-color: #00af00\">32</span>)                  │           <span style=\"color: #00af00; text-decoration-color: #00af00\">2,080</span> │\n",
       "├──────────────────────────────────────┼─────────────────────────────┼─────────────────┤\n",
       "│ dropout_1 (<span style=\"color: #0087ff; text-decoration-color: #0087ff\">Dropout</span>)                  │ (<span style=\"color: #00d7ff; text-decoration-color: #00d7ff\">None</span>, <span style=\"color: #00af00; text-decoration-color: #00af00\">32</span>)                  │               <span style=\"color: #00af00; text-decoration-color: #00af00\">0</span> │\n",
       "├──────────────────────────────────────┼─────────────────────────────┼─────────────────┤\n",
       "│ dense_2 (<span style=\"color: #0087ff; text-decoration-color: #0087ff\">Dense</span>)                      │ (<span style=\"color: #00d7ff; text-decoration-color: #00d7ff\">None</span>, <span style=\"color: #00af00; text-decoration-color: #00af00\">16</span>)                  │             <span style=\"color: #00af00; text-decoration-color: #00af00\">528</span> │\n",
       "├──────────────────────────────────────┼─────────────────────────────┼─────────────────┤\n",
       "│ dropout_2 (<span style=\"color: #0087ff; text-decoration-color: #0087ff\">Dropout</span>)                  │ (<span style=\"color: #00d7ff; text-decoration-color: #00d7ff\">None</span>, <span style=\"color: #00af00; text-decoration-color: #00af00\">16</span>)                  │               <span style=\"color: #00af00; text-decoration-color: #00af00\">0</span> │\n",
       "├──────────────────────────────────────┼─────────────────────────────┼─────────────────┤\n",
       "│ dense_3 (<span style=\"color: #0087ff; text-decoration-color: #0087ff\">Dense</span>)                      │ (<span style=\"color: #00d7ff; text-decoration-color: #00d7ff\">None</span>, <span style=\"color: #00af00; text-decoration-color: #00af00\">1</span>)                   │              <span style=\"color: #00af00; text-decoration-color: #00af00\">17</span> │\n",
       "└──────────────────────────────────────┴─────────────────────────────┴─────────────────┘\n",
       "</pre>\n"
      ],
      "text/plain": [
       "┏━━━━━━━━━━━━━━━━━━━━━━━━━━━━━━━━━━━━━━┳━━━━━━━━━━━━━━━━━━━━━━━━━━━━━┳━━━━━━━━━━━━━━━━━┓\n",
       "┃\u001b[1m \u001b[0m\u001b[1mLayer (type)                        \u001b[0m\u001b[1m \u001b[0m┃\u001b[1m \u001b[0m\u001b[1mOutput Shape               \u001b[0m\u001b[1m \u001b[0m┃\u001b[1m \u001b[0m\u001b[1m        Param #\u001b[0m\u001b[1m \u001b[0m┃\n",
       "┡━━━━━━━━━━━━━━━━━━━━━━━━━━━━━━━━━━━━━━╇━━━━━━━━━━━━━━━━━━━━━━━━━━━━━╇━━━━━━━━━━━━━━━━━┩\n",
       "│ dense (\u001b[38;5;33mDense\u001b[0m)                        │ (\u001b[38;5;45mNone\u001b[0m, \u001b[38;5;34m64\u001b[0m)                  │           \u001b[38;5;34m2,048\u001b[0m │\n",
       "├──────────────────────────────────────┼─────────────────────────────┼─────────────────┤\n",
       "│ dropout (\u001b[38;5;33mDropout\u001b[0m)                    │ (\u001b[38;5;45mNone\u001b[0m, \u001b[38;5;34m64\u001b[0m)                  │               \u001b[38;5;34m0\u001b[0m │\n",
       "├──────────────────────────────────────┼─────────────────────────────┼─────────────────┤\n",
       "│ dense_1 (\u001b[38;5;33mDense\u001b[0m)                      │ (\u001b[38;5;45mNone\u001b[0m, \u001b[38;5;34m32\u001b[0m)                  │           \u001b[38;5;34m2,080\u001b[0m │\n",
       "├──────────────────────────────────────┼─────────────────────────────┼─────────────────┤\n",
       "│ dropout_1 (\u001b[38;5;33mDropout\u001b[0m)                  │ (\u001b[38;5;45mNone\u001b[0m, \u001b[38;5;34m32\u001b[0m)                  │               \u001b[38;5;34m0\u001b[0m │\n",
       "├──────────────────────────────────────┼─────────────────────────────┼─────────────────┤\n",
       "│ dense_2 (\u001b[38;5;33mDense\u001b[0m)                      │ (\u001b[38;5;45mNone\u001b[0m, \u001b[38;5;34m16\u001b[0m)                  │             \u001b[38;5;34m528\u001b[0m │\n",
       "├──────────────────────────────────────┼─────────────────────────────┼─────────────────┤\n",
       "│ dropout_2 (\u001b[38;5;33mDropout\u001b[0m)                  │ (\u001b[38;5;45mNone\u001b[0m, \u001b[38;5;34m16\u001b[0m)                  │               \u001b[38;5;34m0\u001b[0m │\n",
       "├──────────────────────────────────────┼─────────────────────────────┼─────────────────┤\n",
       "│ dense_3 (\u001b[38;5;33mDense\u001b[0m)                      │ (\u001b[38;5;45mNone\u001b[0m, \u001b[38;5;34m1\u001b[0m)                   │              \u001b[38;5;34m17\u001b[0m │\n",
       "└──────────────────────────────────────┴─────────────────────────────┴─────────────────┘\n"
      ]
     },
     "metadata": {},
     "output_type": "display_data"
    },
    {
     "data": {
      "text/html": [
       "<pre style=\"white-space:pre;overflow-x:auto;line-height:normal;font-family:Menlo,'DejaVu Sans Mono',consolas,'Courier New',monospace\"><span style=\"font-weight: bold\"> Total params: </span><span style=\"color: #00af00; text-decoration-color: #00af00\">4,673</span> (18.25 KB)\n",
       "</pre>\n"
      ],
      "text/plain": [
       "\u001b[1m Total params: \u001b[0m\u001b[38;5;34m4,673\u001b[0m (18.25 KB)\n"
      ]
     },
     "metadata": {},
     "output_type": "display_data"
    },
    {
     "data": {
      "text/html": [
       "<pre style=\"white-space:pre;overflow-x:auto;line-height:normal;font-family:Menlo,'DejaVu Sans Mono',consolas,'Courier New',monospace\"><span style=\"font-weight: bold\"> Trainable params: </span><span style=\"color: #00af00; text-decoration-color: #00af00\">4,673</span> (18.25 KB)\n",
       "</pre>\n"
      ],
      "text/plain": [
       "\u001b[1m Trainable params: \u001b[0m\u001b[38;5;34m4,673\u001b[0m (18.25 KB)\n"
      ]
     },
     "metadata": {},
     "output_type": "display_data"
    },
    {
     "data": {
      "text/html": [
       "<pre style=\"white-space:pre;overflow-x:auto;line-height:normal;font-family:Menlo,'DejaVu Sans Mono',consolas,'Courier New',monospace\"><span style=\"font-weight: bold\"> Non-trainable params: </span><span style=\"color: #00af00; text-decoration-color: #00af00\">0</span> (0.00 B)\n",
       "</pre>\n"
      ],
      "text/plain": [
       "\u001b[1m Non-trainable params: \u001b[0m\u001b[38;5;34m0\u001b[0m (0.00 B)\n"
      ]
     },
     "metadata": {},
     "output_type": "display_data"
    }
   ],
   "source": [
    "from tensorflow.keras.optimizers import Adam\n",
    "from tensorflow.keras.callbacks import EarlyStopping\n",
    "\n",
    "model.compile(optimizer=Adam(learning_rate=1e-4), \n",
    "              loss='binary_crossentropy',\n",
    "              metrics=['accuracy'])\n",
    "\n",
    "early_stopping=EarlyStopping(monitor='val_loss',\n",
    "                            patience=10,\n",
    "                            restore_best_weights=True)\n",
    "\n",
    "model.summary()\n"
   ]
  },
  {
   "cell_type": "code",
   "execution_count": 40,
   "id": "dc90726a-a17f-45e4-991c-dec790ed023e",
   "metadata": {},
   "outputs": [
    {
     "name": "stdout",
     "output_type": "stream",
     "text": [
      "Epoch 1/50\n",
      "\u001b[1m141/141\u001b[0m \u001b[32m━━━━━━━━━━━━━━━━━━━━\u001b[0m\u001b[37m\u001b[0m \u001b[1m3s\u001b[0m 5ms/step - accuracy: 0.5922 - loss: 1.7469 - val_accuracy: 0.7271 - val_loss: 1.6102\n",
      "Epoch 2/50\n",
      "\u001b[1m141/141\u001b[0m \u001b[32m━━━━━━━━━━━━━━━━━━━━\u001b[0m\u001b[37m\u001b[0m \u001b[1m1s\u001b[0m 3ms/step - accuracy: 0.6260 - loss: 1.6635 - val_accuracy: 0.7484 - val_loss: 1.5423\n",
      "Epoch 3/50\n",
      "\u001b[1m141/141\u001b[0m \u001b[32m━━━━━━━━━━━━━━━━━━━━\u001b[0m\u001b[37m\u001b[0m \u001b[1m1s\u001b[0m 3ms/step - accuracy: 0.6678 - loss: 1.5713 - val_accuracy: 0.7484 - val_loss: 1.4772\n",
      "Epoch 4/50\n",
      "\u001b[1m141/141\u001b[0m \u001b[32m━━━━━━━━━━━━━━━━━━━━\u001b[0m\u001b[37m\u001b[0m \u001b[1m1s\u001b[0m 3ms/step - accuracy: 0.7083 - loss: 1.5029 - val_accuracy: 0.7556 - val_loss: 1.4163\n",
      "Epoch 5/50\n",
      "\u001b[1m141/141\u001b[0m \u001b[32m━━━━━━━━━━━━━━━━━━━━\u001b[0m\u001b[37m\u001b[0m \u001b[1m1s\u001b[0m 3ms/step - accuracy: 0.7165 - loss: 1.4287 - val_accuracy: 0.7653 - val_loss: 1.3535\n",
      "Epoch 6/50\n",
      "\u001b[1m141/141\u001b[0m \u001b[32m━━━━━━━━━━━━━━━━━━━━\u001b[0m\u001b[37m\u001b[0m \u001b[1m1s\u001b[0m 3ms/step - accuracy: 0.7318 - loss: 1.3673 - val_accuracy: 0.7760 - val_loss: 1.2884\n",
      "Epoch 7/50\n",
      "\u001b[1m141/141\u001b[0m \u001b[32m━━━━━━━━━━━━━━━━━━━━\u001b[0m\u001b[37m\u001b[0m \u001b[1m1s\u001b[0m 3ms/step - accuracy: 0.7383 - loss: 1.3220 - val_accuracy: 0.7911 - val_loss: 1.2247\n",
      "Epoch 8/50\n",
      "\u001b[1m141/141\u001b[0m \u001b[32m━━━━━━━━━━━━━━━━━━━━\u001b[0m\u001b[37m\u001b[0m \u001b[1m1s\u001b[0m 3ms/step - accuracy: 0.7587 - loss: 1.2645 - val_accuracy: 0.8196 - val_loss: 1.1608\n",
      "Epoch 9/50\n",
      "\u001b[1m141/141\u001b[0m \u001b[32m━━━━━━━━━━━━━━━━━━━━\u001b[0m\u001b[37m\u001b[0m \u001b[1m1s\u001b[0m 3ms/step - accuracy: 0.7716 - loss: 1.1971 - val_accuracy: 0.8702 - val_loss: 1.0953\n",
      "Epoch 10/50\n",
      "\u001b[1m141/141\u001b[0m \u001b[32m━━━━━━━━━━━━━━━━━━━━\u001b[0m\u001b[37m\u001b[0m \u001b[1m1s\u001b[0m 3ms/step - accuracy: 0.7864 - loss: 1.1387 - val_accuracy: 0.9022 - val_loss: 1.0297\n",
      "Epoch 11/50\n",
      "\u001b[1m141/141\u001b[0m \u001b[32m━━━━━━━━━━━━━━━━━━━━\u001b[0m\u001b[37m\u001b[0m \u001b[1m0s\u001b[0m 3ms/step - accuracy: 0.8158 - loss: 1.0793 - val_accuracy: 0.9333 - val_loss: 0.9640\n",
      "Epoch 12/50\n",
      "\u001b[1m141/141\u001b[0m \u001b[32m━━━━━━━━━━━━━━━━━━━━\u001b[0m\u001b[37m\u001b[0m \u001b[1m1s\u001b[0m 4ms/step - accuracy: 0.8210 - loss: 1.0202 - val_accuracy: 0.9493 - val_loss: 0.9010\n",
      "Epoch 13/50\n",
      "\u001b[1m141/141\u001b[0m \u001b[32m━━━━━━━━━━━━━━━━━━━━\u001b[0m\u001b[37m\u001b[0m \u001b[1m0s\u001b[0m 3ms/step - accuracy: 0.8568 - loss: 0.9647 - val_accuracy: 0.9609 - val_loss: 0.8407\n",
      "Epoch 14/50\n",
      "\u001b[1m141/141\u001b[0m \u001b[32m━━━━━━━━━━━━━━━━━━━━\u001b[0m\u001b[37m\u001b[0m \u001b[1m1s\u001b[0m 3ms/step - accuracy: 0.8615 - loss: 0.9144 - val_accuracy: 0.9689 - val_loss: 0.7829\n",
      "Epoch 15/50\n",
      "\u001b[1m141/141\u001b[0m \u001b[32m━━━━━━━━━━━━━━━━━━━━\u001b[0m\u001b[37m\u001b[0m \u001b[1m1s\u001b[0m 3ms/step - accuracy: 0.8839 - loss: 0.8502 - val_accuracy: 0.9733 - val_loss: 0.7266\n",
      "Epoch 16/50\n",
      "\u001b[1m141/141\u001b[0m \u001b[32m━━━━━━━━━━━━━━━━━━━━\u001b[0m\u001b[37m\u001b[0m \u001b[1m1s\u001b[0m 3ms/step - accuracy: 0.8977 - loss: 0.8092 - val_accuracy: 0.9769 - val_loss: 0.6748\n",
      "Epoch 17/50\n",
      "\u001b[1m141/141\u001b[0m \u001b[32m━━━━━━━━━━━━━━━━━━━━\u001b[0m\u001b[37m\u001b[0m \u001b[1m1s\u001b[0m 4ms/step - accuracy: 0.9126 - loss: 0.7505 - val_accuracy: 0.9804 - val_loss: 0.6268\n",
      "Epoch 18/50\n",
      "\u001b[1m141/141\u001b[0m \u001b[32m━━━━━━━━━━━━━━━━━━━━\u001b[0m\u001b[37m\u001b[0m \u001b[1m1s\u001b[0m 3ms/step - accuracy: 0.9248 - loss: 0.7003 - val_accuracy: 0.9893 - val_loss: 0.5820\n",
      "Epoch 19/50\n",
      "\u001b[1m141/141\u001b[0m \u001b[32m━━━━━━━━━━━━━━━━━━━━\u001b[0m\u001b[37m\u001b[0m \u001b[1m1s\u001b[0m 3ms/step - accuracy: 0.9402 - loss: 0.6624 - val_accuracy: 0.9929 - val_loss: 0.5424\n",
      "Epoch 20/50\n",
      "\u001b[1m141/141\u001b[0m \u001b[32m━━━━━━━━━━━━━━━━━━━━\u001b[0m\u001b[37m\u001b[0m \u001b[1m1s\u001b[0m 3ms/step - accuracy: 0.9405 - loss: 0.6263 - val_accuracy: 0.9938 - val_loss: 0.5065\n",
      "Epoch 21/50\n",
      "\u001b[1m141/141\u001b[0m \u001b[32m━━━━━━━━━━━━━━━━━━━━\u001b[0m\u001b[37m\u001b[0m \u001b[1m1s\u001b[0m 3ms/step - accuracy: 0.9485 - loss: 0.5863 - val_accuracy: 0.9947 - val_loss: 0.4740\n",
      "Epoch 22/50\n",
      "\u001b[1m141/141\u001b[0m \u001b[32m━━━━━━━━━━━━━━━━━━━━\u001b[0m\u001b[37m\u001b[0m \u001b[1m1s\u001b[0m 3ms/step - accuracy: 0.9457 - loss: 0.5557 - val_accuracy: 0.9973 - val_loss: 0.4449\n",
      "Epoch 23/50\n",
      "\u001b[1m141/141\u001b[0m \u001b[32m━━━━━━━━━━━━━━━━━━━━\u001b[0m\u001b[37m\u001b[0m \u001b[1m1s\u001b[0m 3ms/step - accuracy: 0.9584 - loss: 0.5151 - val_accuracy: 0.9982 - val_loss: 0.4183\n",
      "Epoch 24/50\n",
      "\u001b[1m141/141\u001b[0m \u001b[32m━━━━━━━━━━━━━━━━━━━━\u001b[0m\u001b[37m\u001b[0m \u001b[1m1s\u001b[0m 3ms/step - accuracy: 0.9637 - loss: 0.4883 - val_accuracy: 0.9982 - val_loss: 0.3942\n",
      "Epoch 25/50\n",
      "\u001b[1m141/141\u001b[0m \u001b[32m━━━━━━━━━━━━━━━━━━━━\u001b[0m\u001b[37m\u001b[0m \u001b[1m1s\u001b[0m 3ms/step - accuracy: 0.9695 - loss: 0.4585 - val_accuracy: 0.9991 - val_loss: 0.3714\n",
      "Epoch 26/50\n",
      "\u001b[1m141/141\u001b[0m \u001b[32m━━━━━━━━━━━━━━━━━━━━\u001b[0m\u001b[37m\u001b[0m \u001b[1m1s\u001b[0m 3ms/step - accuracy: 0.9729 - loss: 0.4299 - val_accuracy: 0.9991 - val_loss: 0.3509\n",
      "Epoch 27/50\n",
      "\u001b[1m141/141\u001b[0m \u001b[32m━━━━━━━━━━━━━━━━━━━━\u001b[0m\u001b[37m\u001b[0m \u001b[1m1s\u001b[0m 3ms/step - accuracy: 0.9719 - loss: 0.4139 - val_accuracy: 0.9991 - val_loss: 0.3314\n",
      "Epoch 28/50\n",
      "\u001b[1m141/141\u001b[0m \u001b[32m━━━━━━━━━━━━━━━━━━━━\u001b[0m\u001b[37m\u001b[0m \u001b[1m1s\u001b[0m 4ms/step - accuracy: 0.9765 - loss: 0.3874 - val_accuracy: 1.0000 - val_loss: 0.3132\n",
      "Epoch 29/50\n",
      "\u001b[1m141/141\u001b[0m \u001b[32m━━━━━━━━━━━━━━━━━━━━\u001b[0m\u001b[37m\u001b[0m \u001b[1m1s\u001b[0m 6ms/step - accuracy: 0.9758 - loss: 0.3661 - val_accuracy: 1.0000 - val_loss: 0.2958\n",
      "Epoch 30/50\n",
      "\u001b[1m141/141\u001b[0m \u001b[32m━━━━━━━━━━━━━━━━━━━━\u001b[0m\u001b[37m\u001b[0m \u001b[1m1s\u001b[0m 5ms/step - accuracy: 0.9812 - loss: 0.3500 - val_accuracy: 1.0000 - val_loss: 0.2793\n",
      "Epoch 31/50\n",
      "\u001b[1m141/141\u001b[0m \u001b[32m━━━━━━━━━━━━━━━━━━━━\u001b[0m\u001b[37m\u001b[0m \u001b[1m1s\u001b[0m 5ms/step - accuracy: 0.9877 - loss: 0.3285 - val_accuracy: 1.0000 - val_loss: 0.2639\n",
      "Epoch 32/50\n",
      "\u001b[1m141/141\u001b[0m \u001b[32m━━━━━━━━━━━━━━━━━━━━\u001b[0m\u001b[37m\u001b[0m \u001b[1m1s\u001b[0m 7ms/step - accuracy: 0.9866 - loss: 0.3138 - val_accuracy: 1.0000 - val_loss: 0.2493\n",
      "Epoch 33/50\n",
      "\u001b[1m141/141\u001b[0m \u001b[32m━━━━━━━━━━━━━━━━━━━━\u001b[0m\u001b[37m\u001b[0m \u001b[1m1s\u001b[0m 4ms/step - accuracy: 0.9915 - loss: 0.2896 - val_accuracy: 1.0000 - val_loss: 0.2353\n",
      "Epoch 34/50\n",
      "\u001b[1m141/141\u001b[0m \u001b[32m━━━━━━━━━━━━━━━━━━━━\u001b[0m\u001b[37m\u001b[0m \u001b[1m1s\u001b[0m 3ms/step - accuracy: 0.9924 - loss: 0.2807 - val_accuracy: 1.0000 - val_loss: 0.2219\n",
      "Epoch 35/50\n",
      "\u001b[1m141/141\u001b[0m \u001b[32m━━━━━━━━━━━━━━━━━━━━\u001b[0m\u001b[37m\u001b[0m \u001b[1m1s\u001b[0m 4ms/step - accuracy: 0.9876 - loss: 0.2688 - val_accuracy: 1.0000 - val_loss: 0.2096\n",
      "Epoch 36/50\n",
      "\u001b[1m141/141\u001b[0m \u001b[32m━━━━━━━━━━━━━━━━━━━━\u001b[0m\u001b[37m\u001b[0m \u001b[1m0s\u001b[0m 3ms/step - accuracy: 0.9918 - loss: 0.2528 - val_accuracy: 1.0000 - val_loss: 0.1977\n",
      "Epoch 37/50\n",
      "\u001b[1m141/141\u001b[0m \u001b[32m━━━━━━━━━━━━━━━━━━━━\u001b[0m\u001b[37m\u001b[0m \u001b[1m1s\u001b[0m 3ms/step - accuracy: 0.9930 - loss: 0.2404 - val_accuracy: 1.0000 - val_loss: 0.1868\n",
      "Epoch 38/50\n",
      "\u001b[1m141/141\u001b[0m \u001b[32m━━━━━━━━━━━━━━━━━━━━\u001b[0m\u001b[37m\u001b[0m \u001b[1m1s\u001b[0m 3ms/step - accuracy: 0.9969 - loss: 0.2219 - val_accuracy: 1.0000 - val_loss: 0.1761\n",
      "Epoch 39/50\n",
      "\u001b[1m141/141\u001b[0m \u001b[32m━━━━━━━━━━━━━━━━━━━━\u001b[0m\u001b[37m\u001b[0m \u001b[1m1s\u001b[0m 4ms/step - accuracy: 0.9922 - loss: 0.2159 - val_accuracy: 1.0000 - val_loss: 0.1667\n",
      "Epoch 40/50\n",
      "\u001b[1m141/141\u001b[0m \u001b[32m━━━━━━━━━━━━━━━━━━━━\u001b[0m\u001b[37m\u001b[0m \u001b[1m1s\u001b[0m 4ms/step - accuracy: 0.9932 - loss: 0.2022 - val_accuracy: 1.0000 - val_loss: 0.1575\n",
      "Epoch 41/50\n",
      "\u001b[1m141/141\u001b[0m \u001b[32m━━━━━━━━━━━━━━━━━━━━\u001b[0m\u001b[37m\u001b[0m \u001b[1m1s\u001b[0m 3ms/step - accuracy: 0.9954 - loss: 0.1951 - val_accuracy: 1.0000 - val_loss: 0.1491\n",
      "Epoch 42/50\n",
      "\u001b[1m141/141\u001b[0m \u001b[32m━━━━━━━━━━━━━━━━━━━━\u001b[0m\u001b[37m\u001b[0m \u001b[1m1s\u001b[0m 3ms/step - accuracy: 0.9943 - loss: 0.1871 - val_accuracy: 1.0000 - val_loss: 0.1413\n",
      "Epoch 43/50\n",
      "\u001b[1m141/141\u001b[0m \u001b[32m━━━━━━━━━━━━━━━━━━━━\u001b[0m\u001b[37m\u001b[0m \u001b[1m1s\u001b[0m 3ms/step - accuracy: 0.9939 - loss: 0.1780 - val_accuracy: 1.0000 - val_loss: 0.1338\n",
      "Epoch 44/50\n",
      "\u001b[1m141/141\u001b[0m \u001b[32m━━━━━━━━━━━━━━━━━━━━\u001b[0m\u001b[37m\u001b[0m \u001b[1m1s\u001b[0m 4ms/step - accuracy: 0.9955 - loss: 0.1690 - val_accuracy: 1.0000 - val_loss: 0.1268\n",
      "Epoch 45/50\n",
      "\u001b[1m141/141\u001b[0m \u001b[32m━━━━━━━━━━━━━━━━━━━━\u001b[0m\u001b[37m\u001b[0m \u001b[1m1s\u001b[0m 4ms/step - accuracy: 0.9962 - loss: 0.1625 - val_accuracy: 1.0000 - val_loss: 0.1205\n",
      "Epoch 46/50\n",
      "\u001b[1m141/141\u001b[0m \u001b[32m━━━━━━━━━━━━━━━━━━━━\u001b[0m\u001b[37m\u001b[0m \u001b[1m1s\u001b[0m 4ms/step - accuracy: 0.9953 - loss: 0.1586 - val_accuracy: 1.0000 - val_loss: 0.1147\n",
      "Epoch 47/50\n",
      "\u001b[1m141/141\u001b[0m \u001b[32m━━━━━━━━━━━━━━━━━━━━\u001b[0m\u001b[37m\u001b[0m \u001b[1m1s\u001b[0m 3ms/step - accuracy: 0.9961 - loss: 0.1510 - val_accuracy: 1.0000 - val_loss: 0.1092\n",
      "Epoch 48/50\n",
      "\u001b[1m141/141\u001b[0m \u001b[32m━━━━━━━━━━━━━━━━━━━━\u001b[0m\u001b[37m\u001b[0m \u001b[1m1s\u001b[0m 3ms/step - accuracy: 0.9989 - loss: 0.1427 - val_accuracy: 1.0000 - val_loss: 0.1040\n",
      "Epoch 49/50\n",
      "\u001b[1m141/141\u001b[0m \u001b[32m━━━━━━━━━━━━━━━━━━━━\u001b[0m\u001b[37m\u001b[0m \u001b[1m1s\u001b[0m 4ms/step - accuracy: 0.9997 - loss: 0.1339 - val_accuracy: 1.0000 - val_loss: 0.0992\n",
      "Epoch 50/50\n",
      "\u001b[1m141/141\u001b[0m \u001b[32m━━━━━━━━━━━━━━━━━━━━\u001b[0m\u001b[37m\u001b[0m \u001b[1m1s\u001b[0m 4ms/step - accuracy: 0.9967 - loss: 0.1307 - val_accuracy: 1.0000 - val_loss: 0.0950\n"
     ]
    }
   ],
   "source": [
    "history=model.fit(X_train,y_train,\n",
    "                  epochs=50,\n",
    "                  batch_size=32,\n",
    "                  validation_split=0.2,\n",
    "                  shuffle=True,\n",
    "                  callbacks=early_stopping,\n",
    "                  #class_weight=class_weight_dict,\n",
    "                  verbose=1)"
   ]
  },
  {
   "cell_type": "code",
   "execution_count": 41,
   "id": "d514fce2-3d9e-4cd9-8971-b307f1384a1d",
   "metadata": {},
   "outputs": [
    {
     "name": "stdout",
     "output_type": "stream",
     "text": [
      "\u001b[1m44/44\u001b[0m \u001b[32m━━━━━━━━━━━━━━━━━━━━\u001b[0m\u001b[37m\u001b[0m \u001b[1m0s\u001b[0m 3ms/step - accuracy: 1.0000 - loss: 0.0947\n"
     ]
    },
    {
     "data": {
      "text/plain": [
       "[0.094632588326931, 1.0]"
      ]
     },
     "execution_count": 41,
     "metadata": {},
     "output_type": "execute_result"
    }
   ],
   "source": [
    "model.evaluate(X_test,y_test)"
   ]
  },
  {
   "cell_type": "code",
   "execution_count": 42,
   "id": "e7ba0034-d499-486c-8137-412962248e2c",
   "metadata": {},
   "outputs": [
    {
     "name": "stdout",
     "output_type": "stream",
     "text": [
      "\u001b[1m44/44\u001b[0m \u001b[32m━━━━━━━━━━━━━━━━━━━━\u001b[0m\u001b[37m\u001b[0m \u001b[1m0s\u001b[0m 3ms/step - accuracy: 1.0000 - loss: 0.0947\n",
      "Test Loss: 0.094632588326931\n",
      "Test Accuracy: 1.0\n",
      "\u001b[1m44/44\u001b[0m \u001b[32m━━━━━━━━━━━━━━━━━━━━\u001b[0m\u001b[37m\u001b[0m \u001b[1m0s\u001b[0m 3ms/step\n",
      "              precision    recall  f1-score   support\n",
      "\n",
      "           0       1.00      1.00      1.00      1049\n",
      "           1       1.00      1.00      1.00       358\n",
      "\n",
      "    accuracy                           1.00      1407\n",
      "   macro avg       1.00      1.00      1.00      1407\n",
      "weighted avg       1.00      1.00      1.00      1407\n",
      "\n",
      "[[1049    0]\n",
      " [   0  358]]\n"
     ]
    }
   ],
   "source": [
    "# Evaluate on test data\n",
    "test_loss, test_acc = model.evaluate(X_test, y_test)\n",
    "print(f\"Test Loss: {test_loss}\")\n",
    "print(f\"Test Accuracy: {test_acc}\")\n",
    "\n",
    "# Generate classification report and confusion matrix\n",
    "y_pred = (model.predict(X_test) > 0.5)  # Get binary predictions\n",
    "print(classification_report(y_test, y_pred))\n",
    "print(confusion_matrix(y_test, y_pred))"
   ]
  },
  {
   "cell_type": "code",
   "execution_count": 43,
   "id": "729f9961-5898-4431-8908-09a6294f682a",
   "metadata": {},
   "outputs": [
    {
     "name": "stdout",
     "output_type": "stream",
     "text": [
      "\u001b[1m44/44\u001b[0m \u001b[32m━━━━━━━━━━━━━━━━━━━━\u001b[0m\u001b[37m\u001b[0m \u001b[1m0s\u001b[0m 2ms/step\n"
     ]
    },
    {
     "data": {
      "image/png": "[encoded data removed]",
      "text/plain": [
       "<Figure size 800x600 with 2 Axes>"
      ]
     },
     "metadata": {},
     "output_type": "display_data"
    }
   ],
   "source": [
    "import seaborn as sn\n",
    "from sklearn.metrics import confusion_matrix\n",
    "\n",
    "y_pred = model.predict(X_test)\n",
    "y_pred = (y_pred > 0.5)\n",
    "\n",
    "cm = confusion_matrix(y_test, y_pred)\n",
    "plt.figure(figsize=(8, 6))\n",
    "sn.heatmap(cm, annot=True, fmt='g', cmap='Blues', xticklabels=['No Churn', 'Churn'], yticklabels=['No Churn', 'Churn'])\n",
    "plt.xlabel('Predicted')\n",
    "plt.ylabel('True')\n",
    "plt.title('Confusion Matrix')\n",
    "plt.show()"
   ]
  },
  {
   "cell_type": "code",
   "execution_count": 44,
   "id": "525e370c-da2a-4a46-91cb-82444144b622",
   "metadata": {},
   "outputs": [
    {
     "name": "stdout",
     "output_type": "stream",
     "text": [
      "dict_keys(['accuracy', 'loss', 'val_accuracy', 'val_loss'])\n"
     ]
    }
   ],
   "source": [
    "print(history.history.keys())"
   ]
  },
  {
   "cell_type": "code",
   "execution_count": 45,
   "id": "18f629d3-0a3e-4aef-b8ce-9c09e2950933",
   "metadata": {},
   "outputs": [
    {
     "data": {
      "image/png": "[encoded data removed]",
      "text/plain": [
       "<Figure size 1000x600 with 1 Axes>"
      ]
     },
     "metadata": {},
     "output_type": "display_data"
    },
    {
     "data": {
      "image/png": "[encoded data removed]",
      "text/plain": [
       "<Figure size 1000x600 with 1 Axes>"
      ]
     },
     "metadata": {},
     "output_type": "display_data"
    }
   ],
   "source": [
    "# Plotting training history\n",
    "def plot_history(history, metric):\n",
    "    plt.figure(figsize=(10, 6))\n",
    "    plt.plot(history[metric], label=f'Training {metric}')\n",
    "    plt.plot(history[f'val_{metric}'], label=f'Validation {metric}')\n",
    "    plt.xlabel('Epochs')\n",
    "    plt.ylabel(metric.capitalize())\n",
    "    plt.title(f'Training and Validation {metric.capitalize()}')  \n",
    "    plt.legend()\n",
    "    plt.show()\n",
    "\n",
    "# Plot the accuracy and loss curves\n",
    "plot_history(history.history, 'accuracy')\n",
    "plot_history(history.history, 'loss')"
   ]
  },
  {
   "cell_type": "code",
   "execution_count": 46,
   "id": "9aaa381a-ade8-473d-941a-d0c75cc67e3f",
   "metadata": {},
   "outputs": [
    {
     "name": "stdout",
     "output_type": "stream",
     "text": [
      "\u001b[1m44/44\u001b[0m \u001b[32m━━━━━━━━━━━━━━━━━━━━\u001b[0m\u001b[37m\u001b[0m \u001b[1m0s\u001b[0m 2ms/step - accuracy: 1.0000 - loss: 0.0947\n",
      "Test Loss:0.0946\n",
      "Test Accuracy:1.0000\n"
     ]
    }
   ],
   "source": [
    "loss,accuracy=model.evaluate(X_test,y_test)\n",
    "print(f'Test Loss:{loss:.4f}')\n",
    "print(f'Test Accuracy:{accuracy:.4f}')"
   ]
  },
  {
   "cell_type": "code",
   "execution_count": 73,
   "id": "2984e128-ce28-4102-95a0-c6255a966a37",
   "metadata": {},
   "outputs": [
    {
     "name": "stderr",
     "output_type": "stream",
     "text": [
      "PermutationExplainer explainer: 1408it [03:21,  6.74it/s]                                                              \n"
     ]
    },
    {
     "data": {
      "image/png": "[encoded data removed]",
      "text/plain": [
       "<Figure size 800x870 with 2 Axes>"
      ]
     },
     "metadata": {},
     "output_type": "display_data"
    }
   ],
   "source": [
    "import shap\n",
    "\n",
    "X_test_scaled = pd.DataFrame(scaler.transform(X_test), columns=X.columns)\n",
    "explainer = shap.Explainer(model, X_test_scaled)\n",
    "shap_values = explainer(X_test_scaled)\n",
    "shap.summary_plot(shap_values, X_test_scaled)"
   ]
  },
  {
   "cell_type": "code",
   "execution_count": 48,
   "id": "37a0ff26-e3a1-4b53-97a9-e459d18b17e7",
   "metadata": {},
   "outputs": [
    {
     "data": {
      "text/plain": [
       "'Top Influential Features (from most to less):\\nSenior Citizen\\n\\nPayment Method_Electronic check\\n\\nInternet Service_Fiber optic\\n\\nContract_Month-to-month\\n\\nOnline Security\\n\\nPartner\\n\\nTech Support\\n\\nMonthly Charges\\n\\nPaperless Billing\\n\\nDependents\\n\\nTenure Months'"
      ]
     },
     "execution_count": 48,
     "metadata": {},
     "output_type": "execute_result"
    }
   ],
   "source": [
    "'''Top Influential Features (from most to less):\n",
    "Senior Citizen\n",
    "\n",
    "Payment Method_Electronic check\n",
    "\n",
    "Internet Service_Fiber optic\n",
    "\n",
    "Contract_Month-to-month\n",
    "\n",
    "Online Security\n",
    "\n",
    "Partner\n",
    "\n",
    "Tech Support\n",
    "\n",
    "Monthly Charges\n",
    "\n",
    "Paperless Billing\n",
    "\n",
    "Dependents\n",
    "\n",
    "Tenure Months'''\n"
   ]
  },
  {
   "cell_type": "code",
   "execution_count": 49,
   "id": "2a1954a4-472d-418c-8169-4d460733393d",
   "metadata": {},
   "outputs": [],
   "source": [
    "selected_features=['Senior Citizen',\n",
    "                   'Payment Method_Bank transfer (automatic)',\n",
    "                   'Payment Method_Credit card (automatic)',\n",
    "                   'Payment Method_Electronic check',\n",
    "                   'Payment Method_Mailed check',\n",
    "                   'Internet Service_DSL',\n",
    "                   'Internet Service_Fiber optic',\n",
    "                   'Internet Service_No',\n",
    "                   'Contract_Month-to-month',\n",
    "                   'Contract_One year',\n",
    "                   'Contract_Two year',\n",
    "                   'Online Security',\n",
    "                   'Partner',\n",
    "                   'Tech Support',\n",
    "                   'Monthly Charges',\n",
    "                   'Paperless Billing',\n",
    "                   'Dependents',\n",
    "                   'Tenure Months']"
   ]
  },
  {
   "cell_type": "code",
   "execution_count": 50,
   "id": "72116a06-7a48-4b66-91b3-19feafb45aef",
   "metadata": {},
   "outputs": [],
   "source": [
    "X=df3[selected_features]\n",
    "y=df3['Churn Value']"
   ]
  },
  {
   "cell_type": "code",
   "execution_count": 51,
   "id": "2d2f26b9-a336-40b8-a8a7-ef6f3c17459f",
   "metadata": {},
   "outputs": [],
   "source": [
    "X_train, X_test, y_train, y_test = train_test_split(X, y, test_size=0.2, random_state=42, stratify=y)"
   ]
  },
  {
   "cell_type": "code",
   "execution_count": 52,
   "id": "0b5a5924-2d68-49e7-b2a6-6e6012dc0c5f",
   "metadata": {},
   "outputs": [],
   "source": [
    "import pickle\n",
    "\n",
    "scaler = StandardScaler()\n",
    "X_train_scaled = scaler.fit_transform(X_train)\n",
    "X_test_scaled = scaler.transform(X_test)\n",
    "\n",
    "# Save the scaler for later use in Streamlit\n",
    "with open('scaler.pkl', 'wb') as f:\n",
    "    pickle.dump(scaler, f)"
   ]
  },
  {
   "cell_type": "code",
   "execution_count": 53,
   "id": "6b15d93c-8f7c-4821-8c93-bc60a0da9599",
   "metadata": {},
   "outputs": [
    {
     "name": "stdout",
     "output_type": "stream",
     "text": [
      "After SMOTE: Counter({0: 4130, 1: 4130})\n"
     ]
    }
   ],
   "source": [
    "from imblearn.over_sampling import SMOTE\n",
    "\n",
    "smote = SMOTE(random_state=42)\n",
    "X_train_resampled, y_train_resampled = smote.fit_resample(X_train_scaled, y_train)\n",
    "\n",
    "# Optional: Check class distribution after SMOTE\n",
    "from collections import Counter\n",
    "print(\"After SMOTE:\", Counter(y_train_resampled))"
   ]
  },
  {
   "cell_type": "code",
   "execution_count": 54,
   "id": "5d1a2795-0c8d-4311-abd4-0ec9432494cb",
   "metadata": {},
   "outputs": [
    {
     "data": {
      "text/plain": [
       "\"class_weights = compute_class_weight(\\n    class_weight={0:1, 1:4},\\n    classes=np.unique(y_train),\\n    y=y_train\\n)\\nclass_weight_dict = dict(enumerate(class_weights))\\n\\n#Save class weights\\nwith open('class_weights.pkl', 'wb') as f:\\n    pickle.dump(class_weight_dict, f)\""
      ]
     },
     "execution_count": 54,
     "metadata": {},
     "output_type": "execute_result"
    }
   ],
   "source": [
    "'''class_weights = compute_class_weight(\n",
    "    class_weight={0:1, 1:4},\n",
    "    classes=np.unique(y_train),\n",
    "    y=y_train\n",
    ")\n",
    "class_weight_dict = dict(enumerate(class_weights))\n",
    "\n",
    "#Save class weights\n",
    "with open('class_weights.pkl', 'wb') as f:\n",
    "    pickle.dump(class_weight_dict, f)'''"
   ]
  },
  {
   "cell_type": "code",
   "execution_count": 66,
   "id": "6439e116-4efa-405c-9352-5b5354f62402",
   "metadata": {},
   "outputs": [],
   "source": [
    "def build_model(input_shape):\n",
    "    model = Sequential([\n",
    "        Input(shape=input_shape),\n",
    "        Dense(64, activation='relu', kernel_regularizer=l2(0.001)),\n",
    "        Dropout(0.1),\n",
    "        Dense(32, activation='relu', kernel_regularizer=l2(0.001)),\n",
    "        Dropout(0.1),\n",
    "        Dense(16, activation='relu', kernel_regularizer=l2(0.001)),\n",
    "        Dropout(0.1),\n",
    "        Dense(1, activation='sigmoid')\n",
    "    ])\n",
    "    return model\n",
    "\n",
    "input_shape = (X_train_scaled.shape[1],)\n",
    "model = build_model(input_shape)\n",
    "\n",
    "model.compile(optimizer=Adam(learning_rate=1e-4),\n",
    "              loss='binary_crossentropy',\n",
    "              metrics=['accuracy'])"
   ]
  },
  {
   "cell_type": "code",
   "execution_count": 67,
   "id": "f5b0a35c-3b65-4dd1-90d7-7f763cad5bf3",
   "metadata": {},
   "outputs": [
    {
     "name": "stdout",
     "output_type": "stream",
     "text": [
      "Epoch 1/50\n",
      "\u001b[1m141/141\u001b[0m \u001b[32m━━━━━━━━━━━━━━━━━━━━\u001b[0m\u001b[37m\u001b[0m \u001b[1m3s\u001b[0m 5ms/step - accuracy: 0.7048 - loss: 0.7016 - val_accuracy: 0.7396 - val_loss: 0.6256\n",
      "Epoch 2/50\n",
      "\u001b[1m141/141\u001b[0m \u001b[32m━━━━━━━━━━━━━━━━━━━━\u001b[0m\u001b[37m\u001b[0m \u001b[1m1s\u001b[0m 4ms/step - accuracy: 0.7442 - loss: 0.6098 - val_accuracy: 0.7724 - val_loss: 0.5534\n",
      "Epoch 3/50\n",
      "\u001b[1m141/141\u001b[0m \u001b[32m━━━━━━━━━━━━━━━━━━━━\u001b[0m\u001b[37m\u001b[0m \u001b[1m1s\u001b[0m 4ms/step - accuracy: 0.7642 - loss: 0.5621 - val_accuracy: 0.7867 - val_loss: 0.5174\n",
      "Epoch 4/50\n",
      "\u001b[1m141/141\u001b[0m \u001b[32m━━━━━━━━━━━━━━━━━━━━\u001b[0m\u001b[37m\u001b[0m \u001b[1m1s\u001b[0m 4ms/step - accuracy: 0.7774 - loss: 0.5353 - val_accuracy: 0.7947 - val_loss: 0.5011\n",
      "Epoch 5/50\n",
      "\u001b[1m141/141\u001b[0m \u001b[32m━━━━━━━━━━━━━━━━━━━━\u001b[0m\u001b[37m\u001b[0m \u001b[1m1s\u001b[0m 4ms/step - accuracy: 0.7904 - loss: 0.5291 - val_accuracy: 0.8044 - val_loss: 0.4925\n",
      "Epoch 6/50\n",
      "\u001b[1m141/141\u001b[0m \u001b[32m━━━━━━━━━━━━━━━━━━━━\u001b[0m\u001b[37m\u001b[0m \u001b[1m1s\u001b[0m 4ms/step - accuracy: 0.7934 - loss: 0.5149 - val_accuracy: 0.8089 - val_loss: 0.4871\n",
      "Epoch 7/50\n",
      "\u001b[1m141/141\u001b[0m \u001b[32m━━━━━━━━━━━━━━━━━━━━\u001b[0m\u001b[37m\u001b[0m \u001b[1m1s\u001b[0m 3ms/step - accuracy: 0.7937 - loss: 0.5134 - val_accuracy: 0.8098 - val_loss: 0.4826\n",
      "Epoch 8/50\n",
      "\u001b[1m141/141\u001b[0m \u001b[32m━━━━━━━━━━━━━━━━━━━━\u001b[0m\u001b[37m\u001b[0m \u001b[1m1s\u001b[0m 4ms/step - accuracy: 0.7885 - loss: 0.5129 - val_accuracy: 0.8089 - val_loss: 0.4800\n",
      "Epoch 9/50\n",
      "\u001b[1m141/141\u001b[0m \u001b[32m━━━━━━━━━━━━━━━━━━━━\u001b[0m\u001b[37m\u001b[0m \u001b[1m1s\u001b[0m 4ms/step - accuracy: 0.7892 - loss: 0.5183 - val_accuracy: 0.8071 - val_loss: 0.4774\n",
      "Epoch 10/50\n",
      "\u001b[1m141/141\u001b[0m \u001b[32m━━━━━━━━━━━━━━━━━━━━\u001b[0m\u001b[37m\u001b[0m \u001b[1m1s\u001b[0m 4ms/step - accuracy: 0.8082 - loss: 0.5024 - val_accuracy: 0.8080 - val_loss: 0.4751\n",
      "Epoch 11/50\n",
      "\u001b[1m141/141\u001b[0m \u001b[32m━━━━━━━━━━━━━━━━━━━━\u001b[0m\u001b[37m\u001b[0m \u001b[1m1s\u001b[0m 4ms/step - accuracy: 0.7944 - loss: 0.4894 - val_accuracy: 0.8107 - val_loss: 0.4732\n",
      "Epoch 12/50\n",
      "\u001b[1m141/141\u001b[0m \u001b[32m━━━━━━━━━━━━━━━━━━━━\u001b[0m\u001b[37m\u001b[0m \u001b[1m1s\u001b[0m 4ms/step - accuracy: 0.8007 - loss: 0.4858 - val_accuracy: 0.8098 - val_loss: 0.4716\n",
      "Epoch 13/50\n",
      "\u001b[1m141/141\u001b[0m \u001b[32m━━━━━━━━━━━━━━━━━━━━\u001b[0m\u001b[37m\u001b[0m \u001b[1m1s\u001b[0m 4ms/step - accuracy: 0.7858 - loss: 0.5027 - val_accuracy: 0.8089 - val_loss: 0.4703\n",
      "Epoch 14/50\n",
      "\u001b[1m141/141\u001b[0m \u001b[32m━━━━━━━━━━━━━━━━━━━━\u001b[0m\u001b[37m\u001b[0m \u001b[1m1s\u001b[0m 4ms/step - accuracy: 0.8009 - loss: 0.4919 - val_accuracy: 0.8133 - val_loss: 0.4694\n",
      "Epoch 15/50\n",
      "\u001b[1m141/141\u001b[0m \u001b[32m━━━━━━━━━━━━━━━━━━━━\u001b[0m\u001b[37m\u001b[0m \u001b[1m1s\u001b[0m 5ms/step - accuracy: 0.8017 - loss: 0.4918 - val_accuracy: 0.8098 - val_loss: 0.4681\n",
      "Epoch 16/50\n",
      "\u001b[1m141/141\u001b[0m \u001b[32m━━━━━━━━━━━━━━━━━━━━\u001b[0m\u001b[37m\u001b[0m \u001b[1m1s\u001b[0m 4ms/step - accuracy: 0.8144 - loss: 0.4762 - val_accuracy: 0.8124 - val_loss: 0.4672\n",
      "Epoch 17/50\n",
      "\u001b[1m141/141\u001b[0m \u001b[32m━━━━━━━━━━━━━━━━━━━━\u001b[0m\u001b[37m\u001b[0m \u001b[1m1s\u001b[0m 4ms/step - accuracy: 0.7884 - loss: 0.5047 - val_accuracy: 0.8133 - val_loss: 0.4659\n",
      "Epoch 18/50\n",
      "\u001b[1m141/141\u001b[0m \u001b[32m━━━━━━━━━━━━━━━━━━━━\u001b[0m\u001b[37m\u001b[0m \u001b[1m1s\u001b[0m 4ms/step - accuracy: 0.8048 - loss: 0.4805 - val_accuracy: 0.8124 - val_loss: 0.4654\n",
      "Epoch 19/50\n",
      "\u001b[1m141/141\u001b[0m \u001b[32m━━━━━━━━━━━━━━━━━━━━\u001b[0m\u001b[37m\u001b[0m \u001b[1m1s\u001b[0m 4ms/step - accuracy: 0.8151 - loss: 0.4728 - val_accuracy: 0.8107 - val_loss: 0.4650\n",
      "Epoch 20/50\n",
      "\u001b[1m141/141\u001b[0m \u001b[32m━━━━━━━━━━━━━━━━━━━━\u001b[0m\u001b[37m\u001b[0m \u001b[1m1s\u001b[0m 4ms/step - accuracy: 0.8119 - loss: 0.4813 - val_accuracy: 0.8107 - val_loss: 0.4636\n",
      "Epoch 21/50\n",
      "\u001b[1m141/141\u001b[0m \u001b[32m━━━━━━━━━━━━━━━━━━━━\u001b[0m\u001b[37m\u001b[0m \u001b[1m1s\u001b[0m 4ms/step - accuracy: 0.8114 - loss: 0.4646 - val_accuracy: 0.8098 - val_loss: 0.4630\n",
      "Epoch 22/50\n",
      "\u001b[1m141/141\u001b[0m \u001b[32m━━━━━━━━━━━━━━━━━━━━\u001b[0m\u001b[37m\u001b[0m \u001b[1m1s\u001b[0m 4ms/step - accuracy: 0.8000 - loss: 0.4756 - val_accuracy: 0.8098 - val_loss: 0.4620\n",
      "Epoch 23/50\n",
      "\u001b[1m141/141\u001b[0m \u001b[32m━━━━━━━━━━━━━━━━━━━━\u001b[0m\u001b[37m\u001b[0m \u001b[1m1s\u001b[0m 5ms/step - accuracy: 0.7949 - loss: 0.4900 - val_accuracy: 0.8098 - val_loss: 0.4612\n",
      "Epoch 24/50\n",
      "\u001b[1m141/141\u001b[0m \u001b[32m━━━━━━━━━━━━━━━━━━━━\u001b[0m\u001b[37m\u001b[0m \u001b[1m1s\u001b[0m 4ms/step - accuracy: 0.7978 - loss: 0.4806 - val_accuracy: 0.8116 - val_loss: 0.4603\n",
      "Epoch 25/50\n",
      "\u001b[1m141/141\u001b[0m \u001b[32m━━━━━━━━━━━━━━━━━━━━\u001b[0m\u001b[37m\u001b[0m \u001b[1m1s\u001b[0m 4ms/step - accuracy: 0.8048 - loss: 0.4700 - val_accuracy: 0.8124 - val_loss: 0.4596\n",
      "Epoch 26/50\n",
      "\u001b[1m141/141\u001b[0m \u001b[32m━━━━━━━━━━━━━━━━━━━━\u001b[0m\u001b[37m\u001b[0m \u001b[1m1s\u001b[0m 4ms/step - accuracy: 0.8095 - loss: 0.4680 - val_accuracy: 0.8107 - val_loss: 0.4590\n",
      "Epoch 27/50\n",
      "\u001b[1m141/141\u001b[0m \u001b[32m━━━━━━━━━━━━━━━━━━━━\u001b[0m\u001b[37m\u001b[0m \u001b[1m1s\u001b[0m 4ms/step - accuracy: 0.7998 - loss: 0.4725 - val_accuracy: 0.8089 - val_loss: 0.4580\n",
      "Epoch 28/50\n",
      "\u001b[1m141/141\u001b[0m \u001b[32m━━━━━━━━━━━━━━━━━━━━\u001b[0m\u001b[37m\u001b[0m \u001b[1m1s\u001b[0m 5ms/step - accuracy: 0.7832 - loss: 0.4839 - val_accuracy: 0.8116 - val_loss: 0.4571\n",
      "Epoch 29/50\n",
      "\u001b[1m141/141\u001b[0m \u001b[32m━━━━━━━━━━━━━━━━━━━━\u001b[0m\u001b[37m\u001b[0m \u001b[1m1s\u001b[0m 4ms/step - accuracy: 0.8011 - loss: 0.4774 - val_accuracy: 0.8133 - val_loss: 0.4567\n",
      "Epoch 30/50\n",
      "\u001b[1m141/141\u001b[0m \u001b[32m━━━━━━━━━━━━━━━━━━━━\u001b[0m\u001b[37m\u001b[0m \u001b[1m1s\u001b[0m 4ms/step - accuracy: 0.8057 - loss: 0.4616 - val_accuracy: 0.8142 - val_loss: 0.4560\n",
      "Epoch 31/50\n",
      "\u001b[1m141/141\u001b[0m \u001b[32m━━━━━━━━━━━━━━━━━━━━\u001b[0m\u001b[37m\u001b[0m \u001b[1m1s\u001b[0m 4ms/step - accuracy: 0.8048 - loss: 0.4709 - val_accuracy: 0.8142 - val_loss: 0.4555\n",
      "Epoch 32/50\n",
      "\u001b[1m141/141\u001b[0m \u001b[32m━━━━━━━━━━━━━━━━━━━━\u001b[0m\u001b[37m\u001b[0m \u001b[1m1s\u001b[0m 4ms/step - accuracy: 0.8093 - loss: 0.4642 - val_accuracy: 0.8116 - val_loss: 0.4551\n",
      "Epoch 33/50\n",
      "\u001b[1m141/141\u001b[0m \u001b[32m━━━━━━━━━━━━━━━━━━━━\u001b[0m\u001b[37m\u001b[0m \u001b[1m1s\u001b[0m 4ms/step - accuracy: 0.8087 - loss: 0.4624 - val_accuracy: 0.8142 - val_loss: 0.4542\n",
      "Epoch 34/50\n",
      "\u001b[1m141/141\u001b[0m \u001b[32m━━━━━━━━━━━━━━━━━━━━\u001b[0m\u001b[37m\u001b[0m \u001b[1m1s\u001b[0m 5ms/step - accuracy: 0.8121 - loss: 0.4551 - val_accuracy: 0.8151 - val_loss: 0.4537\n",
      "Epoch 35/50\n",
      "\u001b[1m141/141\u001b[0m \u001b[32m━━━━━━━━━━━━━━━━━━━━\u001b[0m\u001b[37m\u001b[0m \u001b[1m1s\u001b[0m 4ms/step - accuracy: 0.8032 - loss: 0.4741 - val_accuracy: 0.8160 - val_loss: 0.4530\n",
      "Epoch 36/50\n",
      "\u001b[1m141/141\u001b[0m \u001b[32m━━━━━━━━━━━━━━━━━━━━\u001b[0m\u001b[37m\u001b[0m \u001b[1m1s\u001b[0m 4ms/step - accuracy: 0.8119 - loss: 0.4533 - val_accuracy: 0.8160 - val_loss: 0.4526\n",
      "Epoch 37/50\n",
      "\u001b[1m141/141\u001b[0m \u001b[32m━━━━━━━━━━━━━━━━━━━━\u001b[0m\u001b[37m\u001b[0m \u001b[1m1s\u001b[0m 4ms/step - accuracy: 0.8034 - loss: 0.4628 - val_accuracy: 0.8151 - val_loss: 0.4522\n",
      "Epoch 38/50\n",
      "\u001b[1m141/141\u001b[0m \u001b[32m━━━━━━━━━━━━━━━━━━━━\u001b[0m\u001b[37m\u001b[0m \u001b[1m1s\u001b[0m 3ms/step - accuracy: 0.8046 - loss: 0.4562 - val_accuracy: 0.8133 - val_loss: 0.4517\n",
      "Epoch 39/50\n",
      "\u001b[1m141/141\u001b[0m \u001b[32m━━━━━━━━━━━━━━━━━━━━\u001b[0m\u001b[37m\u001b[0m \u001b[1m1s\u001b[0m 5ms/step - accuracy: 0.7980 - loss: 0.4645 - val_accuracy: 0.8124 - val_loss: 0.4514\n",
      "Epoch 40/50\n",
      "\u001b[1m141/141\u001b[0m \u001b[32m━━━━━━━━━━━━━━━━━━━━\u001b[0m\u001b[37m\u001b[0m \u001b[1m1s\u001b[0m 4ms/step - accuracy: 0.8035 - loss: 0.4612 - val_accuracy: 0.8133 - val_loss: 0.4509\n",
      "Epoch 41/50\n",
      "\u001b[1m141/141\u001b[0m \u001b[32m━━━━━━━━━━━━━━━━━━━━\u001b[0m\u001b[37m\u001b[0m \u001b[1m1s\u001b[0m 5ms/step - accuracy: 0.8076 - loss: 0.4539 - val_accuracy: 0.8142 - val_loss: 0.4504\n",
      "Epoch 42/50\n",
      "\u001b[1m141/141\u001b[0m \u001b[32m━━━━━━━━━━━━━━━━━━━━\u001b[0m\u001b[37m\u001b[0m \u001b[1m1s\u001b[0m 4ms/step - accuracy: 0.8036 - loss: 0.4568 - val_accuracy: 0.8142 - val_loss: 0.4497\n",
      "Epoch 43/50\n",
      "\u001b[1m141/141\u001b[0m \u001b[32m━━━━━━━━━━━━━━━━━━━━\u001b[0m\u001b[37m\u001b[0m \u001b[1m1s\u001b[0m 5ms/step - accuracy: 0.8198 - loss: 0.4444 - val_accuracy: 0.8142 - val_loss: 0.4495\n",
      "Epoch 44/50\n",
      "\u001b[1m141/141\u001b[0m \u001b[32m━━━━━━━━━━━━━━━━━━━━\u001b[0m\u001b[37m\u001b[0m \u001b[1m1s\u001b[0m 4ms/step - accuracy: 0.7987 - loss: 0.4623 - val_accuracy: 0.8169 - val_loss: 0.4489\n",
      "Epoch 45/50\n",
      "\u001b[1m141/141\u001b[0m \u001b[32m━━━━━━━━━━━━━━━━━━━━\u001b[0m\u001b[37m\u001b[0m \u001b[1m1s\u001b[0m 4ms/step - accuracy: 0.7995 - loss: 0.4634 - val_accuracy: 0.8151 - val_loss: 0.4483\n",
      "Epoch 46/50\n",
      "\u001b[1m141/141\u001b[0m \u001b[32m━━━━━━━━━━━━━━━━━━━━\u001b[0m\u001b[37m\u001b[0m \u001b[1m1s\u001b[0m 4ms/step - accuracy: 0.8107 - loss: 0.4494 - val_accuracy: 0.8151 - val_loss: 0.4479\n",
      "Epoch 47/50\n",
      "\u001b[1m141/141\u001b[0m \u001b[32m━━━━━━━━━━━━━━━━━━━━\u001b[0m\u001b[37m\u001b[0m \u001b[1m1s\u001b[0m 5ms/step - accuracy: 0.8190 - loss: 0.4438 - val_accuracy: 0.8151 - val_loss: 0.4473\n",
      "Epoch 48/50\n",
      "\u001b[1m141/141\u001b[0m \u001b[32m━━━━━━━━━━━━━━━━━━━━\u001b[0m\u001b[37m\u001b[0m \u001b[1m1s\u001b[0m 4ms/step - accuracy: 0.8123 - loss: 0.4461 - val_accuracy: 0.8151 - val_loss: 0.4469\n",
      "Epoch 49/50\n",
      "\u001b[1m141/141\u001b[0m \u001b[32m━━━━━━━━━━━━━━━━━━━━\u001b[0m\u001b[37m\u001b[0m \u001b[1m1s\u001b[0m 4ms/step - accuracy: 0.8120 - loss: 0.4508 - val_accuracy: 0.8142 - val_loss: 0.4460\n",
      "Epoch 50/50\n",
      "\u001b[1m141/141\u001b[0m \u001b[32m━━━━━━━━━━━━━━━━━━━━\u001b[0m\u001b[37m\u001b[0m \u001b[1m1s\u001b[0m 4ms/step - accuracy: 0.8194 - loss: 0.4425 - val_accuracy: 0.8160 - val_loss: 0.4456\n"
     ]
    }
   ],
   "source": [
    "early_stopping = EarlyStopping(monitor='val_loss',\n",
    "                               patience=10,\n",
    "                               restore_best_weights=True)\n",
    "\n",
    "history = model.fit(\n",
    "    X_train_scaled, y_train,\n",
    "    epochs=50,\n",
    "    batch_size=32,\n",
    "    validation_split=0.2,\n",
    "    shuffle=True,\n",
    "    callbacks=[early_stopping],\n",
    "    #class_weight=class_weight_dict,\n",
    "    verbose=1\n",
    ")"
   ]
  },
  {
   "cell_type": "code",
   "execution_count": 68,
   "id": "7080ce58-86fd-46dc-b1f7-eb103cc7122e",
   "metadata": {},
   "outputs": [
    {
     "data": {
      "image/png": "[encoded data removed]",
      "text/plain": [
       "<Figure size 640x480 with 1 Axes>"
      ]
     },
     "metadata": {},
     "output_type": "display_data"
    }
   ],
   "source": [
    "from sklearn.metrics import precision_recall_curve\n",
    "\n",
    "precision, recall, thresholds = precision_recall_curve(y_test, y_pred)\n",
    "\n",
    "# Plot to choose the best threshold visually\n",
    "import matplotlib.pyplot as plt\n",
    "plt.plot(thresholds, precision[:-1], label='Precision')\n",
    "plt.plot(thresholds, recall[:-1], label='Recall')\n",
    "plt.xlabel('Threshold')\n",
    "plt.legend()\n",
    "plt.grid(True)\n",
    "plt.title('Precision-Recall vs Threshold')\n",
    "plt.show()\n"
   ]
  },
  {
   "cell_type": "code",
   "execution_count": 70,
   "id": "e8b71c15-1614-48fd-96ba-46d30d3c9fc8",
   "metadata": {},
   "outputs": [
    {
     "name": "stdout",
     "output_type": "stream",
     "text": [
      "\u001b[1m44/44\u001b[0m \u001b[32m━━━━━━━━━━━━━━━━━━━━\u001b[0m\u001b[37m\u001b[0m \u001b[1m0s\u001b[0m 3ms/step\n",
      "              precision    recall  f1-score   support\n",
      "\n",
      "           0       0.87      0.85      0.86      1033\n",
      "           1       0.61      0.65      0.63       374\n",
      "\n",
      "    accuracy                           0.79      1407\n",
      "   macro avg       0.74      0.75      0.74      1407\n",
      "weighted avg       0.80      0.79      0.80      1407\n",
      "\n"
     ]
    }
   ],
   "source": [
    "from sklearn.metrics import classification_report, confusion_matrix\n",
    "\n",
    "y_pred = model.predict(X_test_scaled)\n",
    "print(classification_report(y_test, (y_pred > 0.44).astype(int)))\n"
   ]
  },
  {
   "cell_type": "code",
   "execution_count": 71,
   "id": "eff3bec4-6eba-4540-967c-7ade9dc65372",
   "metadata": {},
   "outputs": [],
   "source": [
    "model.save('customer_churn_model.keras')"
   ]
  },
  {
   "cell_type": "code",
   "execution_count": 72,
   "id": "a4b3e2a4-d6d5-4f29-80bd-2968825f8562",
   "metadata": {},
   "outputs": [],
   "source": [
    "import pickle\n",
    "with open('selected_features.pkl', 'wb') as f:\n",
    "    pickle.dump(selected_features, f)"
   ]
  },
  {
   "cell_type": "code",
   "execution_count": null,
   "id": "c78717f8-3f94-4862-baa1-a0082516079d",
   "metadata": {},
   "outputs": [],
   "source": []
  },
  {
   "cell_type": "code",
   "execution_count": null,
   "id": "8912806d-583c-4e03-9a51-c32d34d99cbe",
   "metadata": {},
   "outputs": [],
   "source": []
  },
  {
   "cell_type": "code",
   "execution_count": null,
   "id": "5727166c-e411-402d-987a-67a621d651e6",
   "metadata": {},
   "outputs": [],
   "source": []
  }
 ],
 "metadata": {
  "kernelspec": {
   "display_name": "Python (Churn Project)",
   "language": "python",
   "name": "churn_kernel"
  },
  "language_info": {
   "codemirror_mode": {
    "name": "ipython",
    "version": 3
   },
   "file_extension": ".py",
   "mimetype": "text/x-python",
   "name": "python",
   "nbconvert_exporter": "python",
   "pygments_lexer": "ipython3",
   "version": "3.12.4"
  }
 },
 "nbformat": 4,
 "nbformat_minor": 5
}
